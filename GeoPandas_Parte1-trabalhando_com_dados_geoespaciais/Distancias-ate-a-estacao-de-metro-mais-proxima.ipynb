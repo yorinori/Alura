{
 "cells": [
  {
   "cell_type": "markdown",
   "source": [
    "# Distâncias Até a Estação de Metrô Mais Próxima"
   ],
   "metadata": {}
  },
  {
   "cell_type": "markdown",
   "source": [
    "## Fonte de Dados"
   ],
   "metadata": {}
  },
  {
   "cell_type": "markdown",
   "source": [
    "http://www.data.rio/"
   ],
   "metadata": {}
  },
  {
   "cell_type": "code",
   "execution_count": 1,
   "source": [
    "%matplotlib inline\n",
    "import geopandas as gpd"
   ],
   "outputs": [],
   "metadata": {}
  },
  {
   "cell_type": "code",
   "execution_count": 2,
   "source": [
    "metro = gpd.read_file('data/Transporte/Metro/Estacoes_Metro.geojson')"
   ],
   "outputs": [],
   "metadata": {}
  },
  {
   "cell_type": "code",
   "execution_count": 3,
   "source": [
    "metro.head()"
   ],
   "outputs": [
    {
     "output_type": "execute_result",
     "data": {
      "text/html": [
       "<div>\n",
       "<style scoped>\n",
       "    .dataframe tbody tr th:only-of-type {\n",
       "        vertical-align: middle;\n",
       "    }\n",
       "\n",
       "    .dataframe tbody tr th {\n",
       "        vertical-align: top;\n",
       "    }\n",
       "\n",
       "    .dataframe thead th {\n",
       "        text-align: right;\n",
       "    }\n",
       "</style>\n",
       "<table border=\"1\" class=\"dataframe\">\n",
       "  <thead>\n",
       "    <tr style=\"text-align: right;\">\n",
       "      <th></th>\n",
       "      <th>OBJECTID</th>\n",
       "      <th>Cod</th>\n",
       "      <th>Nome</th>\n",
       "      <th>Flg_ATM</th>\n",
       "      <th>Flg_Bicicletario</th>\n",
       "      <th>Flg_Elevador</th>\n",
       "      <th>Flg_Linha1</th>\n",
       "      <th>Flg_Linha2</th>\n",
       "      <th>Obs</th>\n",
       "      <th>Flg_Ativa</th>\n",
       "      <th>...</th>\n",
       "      <th>Integra_Trem</th>\n",
       "      <th>Integra_Onibus</th>\n",
       "      <th>Integra_BRT</th>\n",
       "      <th>Corredor</th>\n",
       "      <th>Integra_VLT</th>\n",
       "      <th>Onibus</th>\n",
       "      <th>Flg_Metro_Superficie</th>\n",
       "      <th>Metro_Superficie</th>\n",
       "      <th>Data_Inauguracao</th>\n",
       "      <th>geometry</th>\n",
       "    </tr>\n",
       "  </thead>\n",
       "  <tbody>\n",
       "    <tr>\n",
       "      <th>0</th>\n",
       "      <td>1</td>\n",
       "      <td>1</td>\n",
       "      <td>Pavuna</td>\n",
       "      <td>1</td>\n",
       "      <td>1.0</td>\n",
       "      <td>1.0</td>\n",
       "      <td>0</td>\n",
       "      <td>1</td>\n",
       "      <td>None</td>\n",
       "      <td>1</td>\n",
       "      <td>...</td>\n",
       "      <td>1</td>\n",
       "      <td>0</td>\n",
       "      <td>0</td>\n",
       "      <td>None</td>\n",
       "      <td>0</td>\n",
       "      <td>None</td>\n",
       "      <td>0</td>\n",
       "      <td>None</td>\n",
       "      <td>1998</td>\n",
       "      <td>POINT (-43.36485 -22.80662)</td>\n",
       "    </tr>\n",
       "    <tr>\n",
       "      <th>1</th>\n",
       "      <td>2</td>\n",
       "      <td>2</td>\n",
       "      <td>Engenheiro Rubens Paiva</td>\n",
       "      <td>1</td>\n",
       "      <td>1.0</td>\n",
       "      <td>1.0</td>\n",
       "      <td>0</td>\n",
       "      <td>1</td>\n",
       "      <td>None</td>\n",
       "      <td>1</td>\n",
       "      <td>...</td>\n",
       "      <td>0</td>\n",
       "      <td>0</td>\n",
       "      <td>0</td>\n",
       "      <td>None</td>\n",
       "      <td>0</td>\n",
       "      <td>None</td>\n",
       "      <td>0</td>\n",
       "      <td>None</td>\n",
       "      <td>1998</td>\n",
       "      <td>POINT (-43.35845 -22.81627)</td>\n",
       "    </tr>\n",
       "    <tr>\n",
       "      <th>2</th>\n",
       "      <td>3</td>\n",
       "      <td>3</td>\n",
       "      <td>Acari / Fazenda Botafogo</td>\n",
       "      <td>0</td>\n",
       "      <td>0.0</td>\n",
       "      <td>0.0</td>\n",
       "      <td>0</td>\n",
       "      <td>1</td>\n",
       "      <td>None</td>\n",
       "      <td>1</td>\n",
       "      <td>...</td>\n",
       "      <td>0</td>\n",
       "      <td>0</td>\n",
       "      <td>0</td>\n",
       "      <td>None</td>\n",
       "      <td>0</td>\n",
       "      <td>None</td>\n",
       "      <td>0</td>\n",
       "      <td>None</td>\n",
       "      <td>1998</td>\n",
       "      <td>POINT (-43.34964 -22.82452)</td>\n",
       "    </tr>\n",
       "    <tr>\n",
       "      <th>3</th>\n",
       "      <td>4</td>\n",
       "      <td>4</td>\n",
       "      <td>Coelho Neto</td>\n",
       "      <td>1</td>\n",
       "      <td>0.0</td>\n",
       "      <td>0.0</td>\n",
       "      <td>0</td>\n",
       "      <td>1</td>\n",
       "      <td>None</td>\n",
       "      <td>1</td>\n",
       "      <td>...</td>\n",
       "      <td>0</td>\n",
       "      <td>0</td>\n",
       "      <td>0</td>\n",
       "      <td>None</td>\n",
       "      <td>0</td>\n",
       "      <td>None</td>\n",
       "      <td>0</td>\n",
       "      <td>None</td>\n",
       "      <td>1998</td>\n",
       "      <td>POINT (-43.34326 -22.83148)</td>\n",
       "    </tr>\n",
       "    <tr>\n",
       "      <th>4</th>\n",
       "      <td>5</td>\n",
       "      <td>5</td>\n",
       "      <td>Colégio</td>\n",
       "      <td>1</td>\n",
       "      <td>1.0</td>\n",
       "      <td>0.0</td>\n",
       "      <td>0</td>\n",
       "      <td>1</td>\n",
       "      <td>None</td>\n",
       "      <td>1</td>\n",
       "      <td>...</td>\n",
       "      <td>0</td>\n",
       "      <td>0</td>\n",
       "      <td>0</td>\n",
       "      <td>None</td>\n",
       "      <td>0</td>\n",
       "      <td>None</td>\n",
       "      <td>0</td>\n",
       "      <td>None</td>\n",
       "      <td>1998</td>\n",
       "      <td>POINT (-43.33386 -22.84269)</td>\n",
       "    </tr>\n",
       "  </tbody>\n",
       "</table>\n",
       "<p>5 rows × 23 columns</p>\n",
       "</div>"
      ],
      "text/plain": [
       "   OBJECTID  Cod                      Nome  Flg_ATM  Flg_Bicicletario  \\\n",
       "0         1    1                    Pavuna        1               1.0   \n",
       "1         2    2   Engenheiro Rubens Paiva        1               1.0   \n",
       "2         3    3  Acari / Fazenda Botafogo        0               0.0   \n",
       "3         4    4               Coelho Neto        1               0.0   \n",
       "4         5    5                   Colégio        1               1.0   \n",
       "\n",
       "   Flg_Elevador  Flg_Linha1  Flg_Linha2   Obs  Flg_Ativa  ... Integra_Trem  \\\n",
       "0           1.0           0           1  None          1  ...            1   \n",
       "1           1.0           0           1  None          1  ...            0   \n",
       "2           0.0           0           1  None          1  ...            0   \n",
       "3           0.0           0           1  None          1  ...            0   \n",
       "4           0.0           0           1  None          1  ...            0   \n",
       "\n",
       "  Integra_Onibus  Integra_BRT  Corredor  Integra_VLT  Onibus  \\\n",
       "0              0            0      None            0    None   \n",
       "1              0            0      None            0    None   \n",
       "2              0            0      None            0    None   \n",
       "3              0            0      None            0    None   \n",
       "4              0            0      None            0    None   \n",
       "\n",
       "  Flg_Metro_Superficie  Metro_Superficie Data_Inauguracao  \\\n",
       "0                    0              None             1998   \n",
       "1                    0              None             1998   \n",
       "2                    0              None             1998   \n",
       "3                    0              None             1998   \n",
       "4                    0              None             1998   \n",
       "\n",
       "                      geometry  \n",
       "0  POINT (-43.36485 -22.80662)  \n",
       "1  POINT (-43.35845 -22.81627)  \n",
       "2  POINT (-43.34964 -22.82452)  \n",
       "3  POINT (-43.34326 -22.83148)  \n",
       "4  POINT (-43.33386 -22.84269)  \n",
       "\n",
       "[5 rows x 23 columns]"
      ]
     },
     "metadata": {},
     "execution_count": 3
    }
   ],
   "metadata": {}
  },
  {
   "cell_type": "code",
   "execution_count": 4,
   "source": [
    "metro.crs"
   ],
   "outputs": [
    {
     "output_type": "execute_result",
     "data": {
      "text/plain": [
       "<Geographic 2D CRS: EPSG:4326>\n",
       "Name: WGS 84\n",
       "Axis Info [ellipsoidal]:\n",
       "- Lat[north]: Geodetic latitude (degree)\n",
       "- Lon[east]: Geodetic longitude (degree)\n",
       "Area of Use:\n",
       "- name: World.\n",
       "- bounds: (-180.0, -90.0, 180.0, 90.0)\n",
       "Datum: World Geodetic System 1984 ensemble\n",
       "- Ellipsoid: WGS 84\n",
       "- Prime Meridian: Greenwich"
      ]
     },
     "metadata": {},
     "execution_count": 4
    }
   ],
   "metadata": {}
  },
  {
   "cell_type": "code",
   "execution_count": 5,
   "source": [
    "metro = metro.to_crs('+proj=utm +zone=23 +south +ellps=GRS80 +towgs84=0,0,0,0,0,0,0 +units=km +no_defs')"
   ],
   "outputs": [],
   "metadata": {}
  },
  {
   "cell_type": "code",
   "execution_count": 6,
   "source": [
    "rj = gpd.read_file('data/Mapas/RJ-MUNIC/RJ-MUNIC.shp')\n",
    "geo_dados = gpd.read_file('data/Mapas/RJ-DATASET/DATASET.shp')"
   ],
   "outputs": [],
   "metadata": {}
  },
  {
   "cell_type": "code",
   "execution_count": 7,
   "source": [
    "base = rj.plot(color='white', edgecolor='black', figsize=(15, 8))\n",
    "geo_dados.plot(ax=base, color='orange', alpha=0.2)\n",
    "metro.plot(ax=base, color='black', markersize=50)"
   ],
   "outputs": [
    {
     "output_type": "execute_result",
     "data": {
      "text/plain": [
       "<matplotlib.axes._subplots.AxesSubplot at 0x7fe06b6ca100>"
      ]
     },
     "metadata": {},
     "execution_count": 7
    },
    {
     "output_type": "display_data",
     "data": {
      "image/png": "[encoded data removed]",
      "text/plain": [
       "<Figure size 1080x576 with 1 Axes>"
      ]
     },
     "metadata": {
      "needs_background": "light"
     }
    }
   ],
   "metadata": {}
  },
  {
   "cell_type": "code",
   "execution_count": 8,
   "source": [
    "geo_dados.iloc[0].geometry"
   ],
   "outputs": [
    {
     "output_type": "execute_result",
     "data": {
      "image/svg+xml": "<svg xmlns=\"http://www.w3.org/2000/svg\" xmlns:xlink=\"http://www.w3.org/1999/xlink\" width=\"100.0\" height=\"100.0\" viewBox=\"656.5137068691058 7452.832425203198 2.0 2.0\" preserveAspectRatio=\"xMinYMin meet\"><g transform=\"matrix(1,0,0,-1,0,14907.664850406396)\"><circle cx=\"657.5137068691058\" cy=\"7453.832425203198\" r=\"0.06\" stroke=\"#555555\" stroke-width=\"0.02\" fill=\"#66cc99\" opacity=\"0.6\" /></g></svg>",
      "text/plain": [
       "<shapely.geometry.point.Point at 0x7fe06be70bb0>"
      ]
     },
     "metadata": {},
     "execution_count": 8
    }
   ],
   "metadata": {}
  },
  {
   "cell_type": "code",
   "execution_count": 9,
   "source": [
    "distances = metro.distance(geo_dados.iloc[0].geometry)"
   ],
   "outputs": [],
   "metadata": {}
  },
  {
   "cell_type": "code",
   "execution_count": 10,
   "source": [
    "type(distances)"
   ],
   "outputs": [
    {
     "output_type": "execute_result",
     "data": {
      "text/plain": [
       "pandas.core.series.Series"
      ]
     },
     "metadata": {},
     "execution_count": 10
    }
   ],
   "metadata": {}
  },
  {
   "cell_type": "code",
   "execution_count": 11,
   "source": [
    "distances.min()"
   ],
   "outputs": [
    {
     "output_type": "execute_result",
     "data": {
      "text/plain": [
       "15.62293882499506"
      ]
     },
     "metadata": {},
     "execution_count": 11
    }
   ],
   "metadata": {}
  },
  {
   "cell_type": "code",
   "execution_count": 12,
   "source": [
    "geo_dados['Dist_Metro'] = geo_dados['geometry'].apply(lambda x: metro.distance(x).min())"
   ],
   "outputs": [],
   "metadata": {}
  },
  {
   "cell_type": "code",
   "execution_count": 13,
   "source": [
    "geo_dados"
   ],
   "outputs": [
    {
     "output_type": "execute_result",
     "data": {
      "text/html": [
       "<div>\n",
       "<style scoped>\n",
       "    .dataframe tbody tr th:only-of-type {\n",
       "        vertical-align: middle;\n",
       "    }\n",
       "\n",
       "    .dataframe tbody tr th {\n",
       "        vertical-align: top;\n",
       "    }\n",
       "\n",
       "    .dataframe thead th {\n",
       "        text-align: right;\n",
       "    }\n",
       "</style>\n",
       "<table border=\"1\" class=\"dataframe\">\n",
       "  <thead>\n",
       "    <tr style=\"text-align: right;\">\n",
       "      <th></th>\n",
       "      <th>Area</th>\n",
       "      <th>Bairro</th>\n",
       "      <th>Cidade</th>\n",
       "      <th>Endereco</th>\n",
       "      <th>Estado</th>\n",
       "      <th>Latitude</th>\n",
       "      <th>Longitude</th>\n",
       "      <th>Quartos</th>\n",
       "      <th>Suites</th>\n",
       "      <th>Vagas</th>\n",
       "      <th>Tipo</th>\n",
       "      <th>Transacao</th>\n",
       "      <th>Valor</th>\n",
       "      <th>geometry</th>\n",
       "      <th>Dist_Metro</th>\n",
       "    </tr>\n",
       "  </thead>\n",
       "  <tbody>\n",
       "    <tr>\n",
       "      <th>0</th>\n",
       "      <td>138</td>\n",
       "      <td>Recreio dos Bandeirantes</td>\n",
       "      <td>Rio de Janeiro</td>\n",
       "      <td>Rua Vicente Scofano</td>\n",
       "      <td>RJ</td>\n",
       "      <td>-23.016455</td>\n",
       "      <td>-43.462946</td>\n",
       "      <td>3</td>\n",
       "      <td>1</td>\n",
       "      <td>3</td>\n",
       "      <td>Apartamento</td>\n",
       "      <td>Venda</td>\n",
       "      <td>1095000</td>\n",
       "      <td>POINT (657.514 7453.832)</td>\n",
       "      <td>15.622939</td>\n",
       "    </tr>\n",
       "    <tr>\n",
       "      <th>1</th>\n",
       "      <td>133</td>\n",
       "      <td>Freguesia (Jacarepaguá)</td>\n",
       "      <td>Rio de Janeiro</td>\n",
       "      <td>Rua Potiguara</td>\n",
       "      <td>RJ</td>\n",
       "      <td>-22.943199</td>\n",
       "      <td>-43.336911</td>\n",
       "      <td>3</td>\n",
       "      <td>1</td>\n",
       "      <td>2</td>\n",
       "      <td>Apartamento</td>\n",
       "      <td>Venda</td>\n",
       "      <td>650000</td>\n",
       "      <td>POINT (670.524 7461.803)</td>\n",
       "      <td>7.530741</td>\n",
       "    </tr>\n",
       "    <tr>\n",
       "      <th>2</th>\n",
       "      <td>46</td>\n",
       "      <td>Pilares</td>\n",
       "      <td>Rio de Janeiro</td>\n",
       "      <td>Rua Professor Carneiro Felipe</td>\n",
       "      <td>RJ</td>\n",
       "      <td>-22.873849</td>\n",
       "      <td>-43.300517</td>\n",
       "      <td>1</td>\n",
       "      <td>0</td>\n",
       "      <td>0</td>\n",
       "      <td>Apartamento</td>\n",
       "      <td>Venda</td>\n",
       "      <td>150000</td>\n",
       "      <td>POINT (674.345 7469.440)</td>\n",
       "      <td>0.736973</td>\n",
       "    </tr>\n",
       "    <tr>\n",
       "      <th>3</th>\n",
       "      <td>65</td>\n",
       "      <td>Barra da Tijuca</td>\n",
       "      <td>Rio de Janeiro</td>\n",
       "      <td>Avenida Salvador Allende</td>\n",
       "      <td>RJ</td>\n",
       "      <td>-22.984787</td>\n",
       "      <td>-43.412703</td>\n",
       "      <td>2</td>\n",
       "      <td>1</td>\n",
       "      <td>1</td>\n",
       "      <td>Apartamento</td>\n",
       "      <td>Venda</td>\n",
       "      <td>430000</td>\n",
       "      <td>POINT (662.701 7457.284)</td>\n",
       "      <td>10.718039</td>\n",
       "    </tr>\n",
       "    <tr>\n",
       "      <th>4</th>\n",
       "      <td>260</td>\n",
       "      <td>Recreio dos Bandeirantes</td>\n",
       "      <td>Rio de Janeiro</td>\n",
       "      <td>Rua Desembargador Paulo Alonso</td>\n",
       "      <td>RJ</td>\n",
       "      <td>-23.018927</td>\n",
       "      <td>-43.477505</td>\n",
       "      <td>3</td>\n",
       "      <td>1</td>\n",
       "      <td>2</td>\n",
       "      <td>Apartamento</td>\n",
       "      <td>Venda</td>\n",
       "      <td>1160000</td>\n",
       "      <td>POINT (656.019 7453.574)</td>\n",
       "      <td>17.131159</td>\n",
       "    </tr>\n",
       "    <tr>\n",
       "      <th>...</th>\n",
       "      <td>...</td>\n",
       "      <td>...</td>\n",
       "      <td>...</td>\n",
       "      <td>...</td>\n",
       "      <td>...</td>\n",
       "      <td>...</td>\n",
       "      <td>...</td>\n",
       "      <td>...</td>\n",
       "      <td>...</td>\n",
       "      <td>...</td>\n",
       "      <td>...</td>\n",
       "      <td>...</td>\n",
       "      <td>...</td>\n",
       "      <td>...</td>\n",
       "      <td>...</td>\n",
       "    </tr>\n",
       "    <tr>\n",
       "      <th>4508</th>\n",
       "      <td>48</td>\n",
       "      <td>Campo Grande</td>\n",
       "      <td>Rio de Janeiro</td>\n",
       "      <td>Rua Josué de Barros</td>\n",
       "      <td>RJ</td>\n",
       "      <td>-22.878349</td>\n",
       "      <td>-43.550762</td>\n",
       "      <td>2</td>\n",
       "      <td>0</td>\n",
       "      <td>1</td>\n",
       "      <td>Apartamento</td>\n",
       "      <td>Venda</td>\n",
       "      <td>170000</td>\n",
       "      <td>POINT (648.664 7469.216)</td>\n",
       "      <td>20.667831</td>\n",
       "    </tr>\n",
       "    <tr>\n",
       "      <th>4509</th>\n",
       "      <td>75</td>\n",
       "      <td>Recreio dos Bandeirantes</td>\n",
       "      <td>Rio de Janeiro</td>\n",
       "      <td>Rua Le Corbusier</td>\n",
       "      <td>RJ</td>\n",
       "      <td>-23.024717</td>\n",
       "      <td>-43.487285</td>\n",
       "      <td>3</td>\n",
       "      <td>1</td>\n",
       "      <td>1</td>\n",
       "      <td>Apartamento</td>\n",
       "      <td>Venda</td>\n",
       "      <td>550000</td>\n",
       "      <td>POINT (655.010 7452.944)</td>\n",
       "      <td>18.189134</td>\n",
       "    </tr>\n",
       "    <tr>\n",
       "      <th>4510</th>\n",
       "      <td>32</td>\n",
       "      <td>Jardim Botânico</td>\n",
       "      <td>Rio de Janeiro</td>\n",
       "      <td>Rua Getúlio das Neves</td>\n",
       "      <td>RJ</td>\n",
       "      <td>-22.959433</td>\n",
       "      <td>-43.206180</td>\n",
       "      <td>1</td>\n",
       "      <td>0</td>\n",
       "      <td>0</td>\n",
       "      <td>Apartamento</td>\n",
       "      <td>Venda</td>\n",
       "      <td>580000</td>\n",
       "      <td>POINT (683.909 7459.848)</td>\n",
       "      <td>2.180300</td>\n",
       "    </tr>\n",
       "    <tr>\n",
       "      <th>4511</th>\n",
       "      <td>85</td>\n",
       "      <td>Grajaú</td>\n",
       "      <td>Rio de Janeiro</td>\n",
       "      <td>Rua Jerônimo de Lemos</td>\n",
       "      <td>RJ</td>\n",
       "      <td>-22.918773</td>\n",
       "      <td>-43.260492</td>\n",
       "      <td>3</td>\n",
       "      <td>0</td>\n",
       "      <td>0</td>\n",
       "      <td>Apartamento</td>\n",
       "      <td>Venda</td>\n",
       "      <td>325000</td>\n",
       "      <td>POINT (678.393 7464.417)</td>\n",
       "      <td>2.558248</td>\n",
       "    </tr>\n",
       "    <tr>\n",
       "      <th>4512</th>\n",
       "      <td>52</td>\n",
       "      <td>Campo Grande</td>\n",
       "      <td>Rio de Janeiro</td>\n",
       "      <td>Rua Sílvio Fontes</td>\n",
       "      <td>RJ</td>\n",
       "      <td>-22.882881</td>\n",
       "      <td>-43.491146</td>\n",
       "      <td>2</td>\n",
       "      <td>0</td>\n",
       "      <td>0</td>\n",
       "      <td>Apartamento</td>\n",
       "      <td>Venda</td>\n",
       "      <td>135000</td>\n",
       "      <td>POINT (654.775 7468.653)</td>\n",
       "      <td>15.470279</td>\n",
       "    </tr>\n",
       "  </tbody>\n",
       "</table>\n",
       "<p>4513 rows × 15 columns</p>\n",
       "</div>"
      ],
      "text/plain": [
       "      Area                    Bairro          Cidade  \\\n",
       "0      138  Recreio dos Bandeirantes  Rio de Janeiro   \n",
       "1      133   Freguesia (Jacarepaguá)  Rio de Janeiro   \n",
       "2       46                   Pilares  Rio de Janeiro   \n",
       "3       65           Barra da Tijuca  Rio de Janeiro   \n",
       "4      260  Recreio dos Bandeirantes  Rio de Janeiro   \n",
       "...    ...                       ...             ...   \n",
       "4508    48              Campo Grande  Rio de Janeiro   \n",
       "4509    75  Recreio dos Bandeirantes  Rio de Janeiro   \n",
       "4510    32           Jardim Botânico  Rio de Janeiro   \n",
       "4511    85                    Grajaú  Rio de Janeiro   \n",
       "4512    52              Campo Grande  Rio de Janeiro   \n",
       "\n",
       "                            Endereco Estado   Latitude  Longitude  Quartos  \\\n",
       "0                Rua Vicente Scofano     RJ -23.016455 -43.462946        3   \n",
       "1                      Rua Potiguara     RJ -22.943199 -43.336911        3   \n",
       "2      Rua Professor Carneiro Felipe     RJ -22.873849 -43.300517        1   \n",
       "3           Avenida Salvador Allende     RJ -22.984787 -43.412703        2   \n",
       "4     Rua Desembargador Paulo Alonso     RJ -23.018927 -43.477505        3   \n",
       "...                              ...    ...        ...        ...      ...   \n",
       "4508             Rua Josué de Barros     RJ -22.878349 -43.550762        2   \n",
       "4509                Rua Le Corbusier     RJ -23.024717 -43.487285        3   \n",
       "4510           Rua Getúlio das Neves     RJ -22.959433 -43.206180        1   \n",
       "4511           Rua Jerônimo de Lemos     RJ -22.918773 -43.260492        3   \n",
       "4512               Rua Sílvio Fontes     RJ -22.882881 -43.491146        2   \n",
       "\n",
       "      Suites  Vagas         Tipo Transacao    Valor                  geometry  \\\n",
       "0          1      3  Apartamento     Venda  1095000  POINT (657.514 7453.832)   \n",
       "1          1      2  Apartamento     Venda   650000  POINT (670.524 7461.803)   \n",
       "2          0      0  Apartamento     Venda   150000  POINT (674.345 7469.440)   \n",
       "3          1      1  Apartamento     Venda   430000  POINT (662.701 7457.284)   \n",
       "4          1      2  Apartamento     Venda  1160000  POINT (656.019 7453.574)   \n",
       "...      ...    ...          ...       ...      ...                       ...   \n",
       "4508       0      1  Apartamento     Venda   170000  POINT (648.664 7469.216)   \n",
       "4509       1      1  Apartamento     Venda   550000  POINT (655.010 7452.944)   \n",
       "4510       0      0  Apartamento     Venda   580000  POINT (683.909 7459.848)   \n",
       "4511       0      0  Apartamento     Venda   325000  POINT (678.393 7464.417)   \n",
       "4512       0      0  Apartamento     Venda   135000  POINT (654.775 7468.653)   \n",
       "\n",
       "      Dist_Metro  \n",
       "0      15.622939  \n",
       "1       7.530741  \n",
       "2       0.736973  \n",
       "3      10.718039  \n",
       "4      17.131159  \n",
       "...          ...  \n",
       "4508   20.667831  \n",
       "4509   18.189134  \n",
       "4510    2.180300  \n",
       "4511    2.558248  \n",
       "4512   15.470279  \n",
       "\n",
       "[4513 rows x 15 columns]"
      ]
     },
     "metadata": {},
     "execution_count": 13
    }
   ],
   "metadata": {}
  },
  {
   "cell_type": "code",
   "execution_count": 14,
   "source": [
    "geo_dados.corr()"
   ],
   "outputs": [
    {
     "output_type": "execute_result",
     "data": {
      "text/html": [
       "<div>\n",
       "<style scoped>\n",
       "    .dataframe tbody tr th:only-of-type {\n",
       "        vertical-align: middle;\n",
       "    }\n",
       "\n",
       "    .dataframe tbody tr th {\n",
       "        vertical-align: top;\n",
       "    }\n",
       "\n",
       "    .dataframe thead th {\n",
       "        text-align: right;\n",
       "    }\n",
       "</style>\n",
       "<table border=\"1\" class=\"dataframe\">\n",
       "  <thead>\n",
       "    <tr style=\"text-align: right;\">\n",
       "      <th></th>\n",
       "      <th>Area</th>\n",
       "      <th>Latitude</th>\n",
       "      <th>Longitude</th>\n",
       "      <th>Quartos</th>\n",
       "      <th>Suites</th>\n",
       "      <th>Vagas</th>\n",
       "      <th>Valor</th>\n",
       "      <th>Dist_Metro</th>\n",
       "    </tr>\n",
       "  </thead>\n",
       "  <tbody>\n",
       "    <tr>\n",
       "      <th>Area</th>\n",
       "      <td>1.000000</td>\n",
       "      <td>-0.289299</td>\n",
       "      <td>0.029982</td>\n",
       "      <td>0.681112</td>\n",
       "      <td>0.585817</td>\n",
       "      <td>0.594699</td>\n",
       "      <td>0.724397</td>\n",
       "      <td>-0.036671</td>\n",
       "    </tr>\n",
       "    <tr>\n",
       "      <th>Latitude</th>\n",
       "      <td>-0.289299</td>\n",
       "      <td>1.000000</td>\n",
       "      <td>0.292822</td>\n",
       "      <td>-0.225226</td>\n",
       "      <td>-0.346480</td>\n",
       "      <td>-0.274707</td>\n",
       "      <td>-0.299038</td>\n",
       "      <td>-0.217864</td>\n",
       "    </tr>\n",
       "    <tr>\n",
       "      <th>Longitude</th>\n",
       "      <td>0.029982</td>\n",
       "      <td>0.292822</td>\n",
       "      <td>1.000000</td>\n",
       "      <td>-0.016882</td>\n",
       "      <td>-0.221548</td>\n",
       "      <td>-0.283960</td>\n",
       "      <td>0.191868</td>\n",
       "      <td>-0.874788</td>\n",
       "    </tr>\n",
       "    <tr>\n",
       "      <th>Quartos</th>\n",
       "      <td>0.681112</td>\n",
       "      <td>-0.225226</td>\n",
       "      <td>-0.016882</td>\n",
       "      <td>1.000000</td>\n",
       "      <td>0.529611</td>\n",
       "      <td>0.520499</td>\n",
       "      <td>0.481216</td>\n",
       "      <td>0.021794</td>\n",
       "    </tr>\n",
       "    <tr>\n",
       "      <th>Suites</th>\n",
       "      <td>0.585817</td>\n",
       "      <td>-0.346480</td>\n",
       "      <td>-0.221548</td>\n",
       "      <td>0.529611</td>\n",
       "      <td>1.000000</td>\n",
       "      <td>0.621140</td>\n",
       "      <td>0.464075</td>\n",
       "      <td>0.188521</td>\n",
       "    </tr>\n",
       "    <tr>\n",
       "      <th>Vagas</th>\n",
       "      <td>0.594699</td>\n",
       "      <td>-0.274707</td>\n",
       "      <td>-0.283960</td>\n",
       "      <td>0.520499</td>\n",
       "      <td>0.621140</td>\n",
       "      <td>1.000000</td>\n",
       "      <td>0.456596</td>\n",
       "      <td>0.215787</td>\n",
       "    </tr>\n",
       "    <tr>\n",
       "      <th>Valor</th>\n",
       "      <td>0.724397</td>\n",
       "      <td>-0.299038</td>\n",
       "      <td>0.191868</td>\n",
       "      <td>0.481216</td>\n",
       "      <td>0.464075</td>\n",
       "      <td>0.456596</td>\n",
       "      <td>1.000000</td>\n",
       "      <td>-0.195641</td>\n",
       "    </tr>\n",
       "    <tr>\n",
       "      <th>Dist_Metro</th>\n",
       "      <td>-0.036671</td>\n",
       "      <td>-0.217864</td>\n",
       "      <td>-0.874788</td>\n",
       "      <td>0.021794</td>\n",
       "      <td>0.188521</td>\n",
       "      <td>0.215787</td>\n",
       "      <td>-0.195641</td>\n",
       "      <td>1.000000</td>\n",
       "    </tr>\n",
       "  </tbody>\n",
       "</table>\n",
       "</div>"
      ],
      "text/plain": [
       "                Area  Latitude  Longitude   Quartos    Suites     Vagas  \\\n",
       "Area        1.000000 -0.289299   0.029982  0.681112  0.585817  0.594699   \n",
       "Latitude   -0.289299  1.000000   0.292822 -0.225226 -0.346480 -0.274707   \n",
       "Longitude   0.029982  0.292822   1.000000 -0.016882 -0.221548 -0.283960   \n",
       "Quartos     0.681112 -0.225226  -0.016882  1.000000  0.529611  0.520499   \n",
       "Suites      0.585817 -0.346480  -0.221548  0.529611  1.000000  0.621140   \n",
       "Vagas       0.594699 -0.274707  -0.283960  0.520499  0.621140  1.000000   \n",
       "Valor       0.724397 -0.299038   0.191868  0.481216  0.464075  0.456596   \n",
       "Dist_Metro -0.036671 -0.217864  -0.874788  0.021794  0.188521  0.215787   \n",
       "\n",
       "               Valor  Dist_Metro  \n",
       "Area        0.724397   -0.036671  \n",
       "Latitude   -0.299038   -0.217864  \n",
       "Longitude   0.191868   -0.874788  \n",
       "Quartos     0.481216    0.021794  \n",
       "Suites      0.464075    0.188521  \n",
       "Vagas       0.456596    0.215787  \n",
       "Valor       1.000000   -0.195641  \n",
       "Dist_Metro -0.195641    1.000000  "
      ]
     },
     "metadata": {},
     "execution_count": 14
    }
   ],
   "metadata": {}
  },
  {
   "cell_type": "code",
   "execution_count": 15,
   "source": [
    "coef = geo_dados['Valor'].corr(geo_dados['Dist_Metro'])"
   ],
   "outputs": [],
   "metadata": {}
  },
  {
   "cell_type": "code",
   "execution_count": 16,
   "source": [
    "coef"
   ],
   "outputs": [
    {
     "output_type": "execute_result",
     "data": {
      "text/plain": [
       "-0.19564083161686885"
      ]
     },
     "metadata": {},
     "execution_count": 16
    }
   ],
   "metadata": {}
  },
  {
   "cell_type": "code",
   "execution_count": 17,
   "source": [
    "1 * coef"
   ],
   "outputs": [
    {
     "output_type": "execute_result",
     "data": {
      "text/plain": [
       "-0.19564083161686885"
      ]
     },
     "metadata": {},
     "execution_count": 17
    }
   ],
   "metadata": {}
  },
  {
   "cell_type": "code",
   "execution_count": 18,
   "source": [
    "10 * coef"
   ],
   "outputs": [
    {
     "output_type": "execute_result",
     "data": {
      "text/plain": [
       "-1.9564083161686885"
      ]
     },
     "metadata": {},
     "execution_count": 18
    }
   ],
   "metadata": {}
  },
  {
   "cell_type": "code",
   "execution_count": 20,
   "source": [
    "geo_dados.to_file('data/Mapas/RJ-DATASET/DATASET.shp')"
   ],
   "outputs": [
    {
     "output_type": "stream",
     "name": "stderr",
     "text": [
      "/home/yorinori/anaconda3/lib/python3.8/site-packages/geopandas/io/file.py:362: FutureWarning: pandas.Int64Index is deprecated and will be removed from pandas in a future version. Use pandas.Index with the appropriate dtype instead.\n",
      "  pd.Int64Index,\n"
     ]
    }
   ],
   "metadata": {}
  },
  {
   "cell_type": "code",
   "execution_count": null,
   "source": [],
   "outputs": [],
   "metadata": {}
  }
 ],
 "metadata": {
  "orig_nbformat": 4,
  "language_info": {
   "name": "python",
   "version": "3.8.3",
   "mimetype": "text/x-python",
   "codemirror_mode": {
    "name": "ipython",
    "version": 3
   },
   "pygments_lexer": "ipython3",
   "nbconvert_exporter": "python",
   "file_extension": ".py"
  },
  "kernelspec": {
   "name": "python3",
   "display_name": "Python 3.8.3 64-bit ('base': conda)"
  },
  "interpreter": {
   "hash": "0e37f8b5187a005d5c39140e5c1b27d22840e7060e442bd6aa4a7c0a35643177"
  }
 },
 "nbformat": 4,
 "nbformat_minor": 2
}
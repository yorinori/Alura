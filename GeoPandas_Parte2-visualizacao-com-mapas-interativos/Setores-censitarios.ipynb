{
 "cells": [
  {
   "cell_type": "code",
   "execution_count": 1,
   "source": [
    "!pip install folium"
   ],
   "outputs": [
    {
     "output_type": "stream",
     "name": "stdout",
     "text": [
      "Collecting folium\n",
      "  Downloading folium-0.12.1.post1-py2.py3-none-any.whl (95 kB)\n",
      "\u001b[K     |████████████████████████████████| 95 kB 1.4 MB/s \n",
      "\u001b[?25hRequirement already satisfied: numpy in /home/yorinori/anaconda3/lib/python3.8/site-packages (from folium) (1.18.5)\n",
      "Requirement already satisfied: requests in /home/yorinori/anaconda3/lib/python3.8/site-packages (from folium) (2.24.0)\n",
      "Collecting branca>=0.3.0\n",
      "  Downloading branca-0.5.0-py3-none-any.whl (24 kB)\n",
      "Requirement already satisfied: jinja2>=2.9 in /home/yorinori/anaconda3/lib/python3.8/site-packages (from folium) (3.1.2)\n",
      "Requirement already satisfied: idna<3,>=2.5 in /home/yorinori/anaconda3/lib/python3.8/site-packages (from requests->folium) (2.10)\n",
      "Requirement already satisfied: chardet<4,>=3.0.2 in /home/yorinori/anaconda3/lib/python3.8/site-packages (from requests->folium) (3.0.4)\n",
      "Requirement already satisfied: urllib3!=1.25.0,!=1.25.1,<1.26,>=1.21.1 in /home/yorinori/anaconda3/lib/python3.8/site-packages (from requests->folium) (1.25.9)\n",
      "Requirement already satisfied: certifi>=2017.4.17 in /home/yorinori/anaconda3/lib/python3.8/site-packages (from requests->folium) (2020.6.20)\n",
      "Requirement already satisfied: MarkupSafe>=2.0 in /home/yorinori/anaconda3/lib/python3.8/site-packages (from jinja2>=2.9->folium) (2.1.1)\n",
      "Installing collected packages: branca, folium\n",
      "Successfully installed branca-0.5.0 folium-0.12.1.post1\n"
     ]
    }
   ],
   "metadata": {}
  },
  {
   "cell_type": "markdown",
   "source": [
    "Folium is a powerful Python library that helps you create several types of Leaflet maps. By default, Folium creates a map in a separate HTML file. Since Folium results are interactive, this library is very useful for dashboard building. You can also create inline Jupyter maps in Folium."
   ],
   "metadata": {}
  },
  {
   "cell_type": "markdown",
   "source": [],
   "metadata": {}
  }
 ],
 "metadata": {
  "orig_nbformat": 4,
  "language_info": {
   "name": "python",
   "version": "3.8.3",
   "mimetype": "text/x-python",
   "codemirror_mode": {
    "name": "ipython",
    "version": 3
   },
   "pygments_lexer": "ipython3",
   "nbconvert_exporter": "python",
   "file_extension": ".py"
  },
  "kernelspec": {
   "name": "python3",
   "display_name": "Python 3.8.3 64-bit ('base': conda)"
  },
  "interpreter": {
   "hash": "0e37f8b5187a005d5c39140e5c1b27d22840e7060e442bd6aa4a7c0a35643177"
  }
 },
 "nbformat": 4,
 "nbformat_minor": 2
}
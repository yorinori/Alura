{
 "cells": [
  {
   "cell_type": "code",
   "execution_count": 1,
   "source": [
    "!pip install folium"
   ],
   "outputs": [
    {
     "output_type": "stream",
     "name": "stdout",
     "text": [
      "Collecting folium\n",
      "  Downloading folium-0.12.1.post1-py2.py3-none-any.whl (95 kB)\n",
      "\u001b[K     |████████████████████████████████| 95 kB 1.4 MB/s \n",
      "\u001b[?25hRequirement already satisfied: numpy in /home/yorinori/anaconda3/lib/python3.8/site-packages (from folium) (1.18.5)\n",
      "Requirement already satisfied: requests in /home/yorinori/anaconda3/lib/python3.8/site-packages (from folium) (2.24.0)\n",
      "Collecting branca>=0.3.0\n",
      "  Downloading branca-0.5.0-py3-none-any.whl (24 kB)\n",
      "Requirement already satisfied: jinja2>=2.9 in /home/yorinori/anaconda3/lib/python3.8/site-packages (from folium) (3.1.2)\n",
      "Requirement already satisfied: idna<3,>=2.5 in /home/yorinori/anaconda3/lib/python3.8/site-packages (from requests->folium) (2.10)\n",
      "Requirement already satisfied: chardet<4,>=3.0.2 in /home/yorinori/anaconda3/lib/python3.8/site-packages (from requests->folium) (3.0.4)\n",
      "Requirement already satisfied: urllib3!=1.25.0,!=1.25.1,<1.26,>=1.21.1 in /home/yorinori/anaconda3/lib/python3.8/site-packages (from requests->folium) (1.25.9)\n",
      "Requirement already satisfied: certifi>=2017.4.17 in /home/yorinori/anaconda3/lib/python3.8/site-packages (from requests->folium) (2020.6.20)\n",
      "Requirement already satisfied: MarkupSafe>=2.0 in /home/yorinori/anaconda3/lib/python3.8/site-packages (from jinja2>=2.9->folium) (2.1.1)\n",
      "Installing collected packages: branca, folium\n",
      "Successfully installed branca-0.5.0 folium-0.12.1.post1\n"
     ]
    }
   ],
   "metadata": {}
  },
  {
   "cell_type": "markdown",
   "source": [
    "Folium is a powerful Python library that helps you create several types of Leaflet maps. By default, Folium creates a map in a separate HTML file. Since Folium results are interactive, this library is very useful for dashboard building. You can also create inline Jupyter maps in Folium."
   ],
   "metadata": {}
  },
  {
   "cell_type": "markdown",
   "source": [],
   "metadata": {}
  },
  {
   "cell_type": "code",
   "execution_count": 1,
   "source": [
    "%matplotlib inline\n",
    "import pandas as pd\n",
    "import geopandas as gpd"
   ],
   "outputs": [],
   "metadata": {}
  },
  {
   "cell_type": "code",
   "execution_count": 2,
   "source": [
    "import os\n",
    "import zipfile\n",
    "import shutil"
   ],
   "outputs": [],
   "metadata": {}
  },
  {
   "cell_type": "code",
   "execution_count": 9,
   "source": [
    "dir = './data/Mapas/RJ-SETOR/tmp'\n",
    "dir_files = './data/Mapas/RJ-SETOR/data'\n",
    "if not os.path.exists(dir):\n",
    "    os.makedirs(dir)"
   ],
   "outputs": [],
   "metadata": {}
  },
  {
   "cell_type": "code",
   "execution_count": 11,
   "source": [
    "filenames = []\n",
    "for root, dirs, files in os.walk(dir_files):\n",
    "    filenames = files\n",
    "\n",
    "filenames"
   ],
   "outputs": [
    {
     "output_type": "execute_result",
     "data": {
      "text/plain": [
       "['33045570530.zip',\n",
       " '33045570513.zip',\n",
       " '33045570529.zip',\n",
       " '33045570528.zip',\n",
       " '33045570521.zip',\n",
       " '33045570526.zip',\n",
       " '33045570532.zip',\n",
       " '33045570523.zip',\n",
       " '33045570537.zip',\n",
       " '33045570522.zip',\n",
       " '33045570509.zip',\n",
       " '33045570517.zip',\n",
       " '33045570507.zip',\n",
       " '33045570508.zip',\n",
       " '33045570535.zip',\n",
       " '33045570520.zip',\n",
       " '33045570511.zip',\n",
       " '33045570524.zip',\n",
       " '33045570536.zip',\n",
       " '33045570527.zip',\n",
       " '33045570539.zip',\n",
       " '33045570510.zip',\n",
       " '33045570538.zip',\n",
       " '33045570512.zip',\n",
       " '33045570534.zip',\n",
       " '33045570506.zip',\n",
       " '33045570514.zip',\n",
       " '33045570515.zip',\n",
       " '33045570516.zip',\n",
       " '33045570525.zip',\n",
       " '33045570519.zip',\n",
       " '33045570533.zip',\n",
       " '33045570531.zip']"
      ]
     },
     "metadata": {},
     "execution_count": 11
    }
   ],
   "metadata": {}
  },
  {
   "cell_type": "code",
   "execution_count": 14,
   "source": [
    "for item in filenames: \n",
    "    zip_ref = zipfile.ZipFile(dir_files + '/' + item, 'r')\n",
    "    zip_ref.extractall(dir)\n",
    "    zip_ref.close()"
   ],
   "outputs": [],
   "metadata": {}
  }
 ],
 "metadata": {
  "orig_nbformat": 4,
  "language_info": {
   "name": "python",
   "version": "3.8.3",
   "mimetype": "text/x-python",
   "codemirror_mode": {
    "name": "ipython",
    "version": 3
   },
   "pygments_lexer": "ipython3",
   "nbconvert_exporter": "python",
   "file_extension": ".py"
  },
  "kernelspec": {
   "name": "python3",
   "display_name": "Python 3.8.3 64-bit ('base': conda)"
  },
  "interpreter": {
   "hash": "0e37f8b5187a005d5c39140e5c1b27d22840e7060e442bd6aa4a7c0a35643177"
  }
 },
 "nbformat": 4,
 "nbformat_minor": 2
}
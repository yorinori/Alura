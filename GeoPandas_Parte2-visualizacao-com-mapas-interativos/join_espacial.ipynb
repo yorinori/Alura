{
 "cells": [
  {
   "cell_type": "code",
   "execution_count": 3,
   "source": [
    "import geopandas as gpd\n",
    "from shapely.geometry import Point, Polygon\n",
    "\n",
    "# GeoDataFrame representando um polígono\n",
    "p = {'Ident': 'Polygon A',\n",
    "    'geometry': Polygon([(0, 0), (1, 0), (1, 1), (0, 1)])}\n",
    "\n",
    "polygon = gpd.GeoDataFrame([p])\n",
    "\n",
    "# GeoDataFrame representando pontos\n",
    "pt = {'Ident': ['A', 'B', 'C', 'E', 'F', 'G'],\n",
    "    'geometry': [Point(0.5, 0.0),\n",
    "                Point(0.3, 0.7),\n",
    "                Point(0.8, 0.4),\n",
    "                Point(1.0, 1.0),\n",
    "                Point(1.1, 1.1),\n",
    "                Point(-0.1, -0.1)]}\n",
    "points = gpd.GeoDataFrame(pt)\n",
    "\n",
    "# Plotagem dos dois GeoDataFrames\n",
    "base = polygon.plot(color='white', edgecolor='blue', figsize=(15, 8))\n",
    "points.plot(ax=base, color='orange', markersize=100)"
   ],
   "outputs": [
    {
     "output_type": "execute_result",
     "data": {
      "text/plain": [
       "<matplotlib.axes._subplots.AxesSubplot at 0x7f662dbe8430>"
      ]
     },
     "metadata": {},
     "execution_count": 3
    },
    {
     "output_type": "display_data",
     "data": {
      "image/png": "[encoded data removed]",
      "text/plain": [
       "<Figure size 1080x576 with 1 Axes>"
      ]
     },
     "metadata": {
      "needs_background": "light"
     }
    }
   ],
   "metadata": {}
  },
  {
   "cell_type": "code",
   "execution_count": 9,
   "source": [
    "sjoin = gpd.sjoin(polygon, points, how='inner', predicate='contains')\n",
    "sjoin"
   ],
   "outputs": [
    {
     "output_type": "execute_result",
     "data": {
      "text/html": [
       "<div>\n",
       "<style scoped>\n",
       "    .dataframe tbody tr th:only-of-type {\n",
       "        vertical-align: middle;\n",
       "    }\n",
       "\n",
       "    .dataframe tbody tr th {\n",
       "        vertical-align: top;\n",
       "    }\n",
       "\n",
       "    .dataframe thead th {\n",
       "        text-align: right;\n",
       "    }\n",
       "</style>\n",
       "<table border=\"1\" class=\"dataframe\">\n",
       "  <thead>\n",
       "    <tr style=\"text-align: right;\">\n",
       "      <th></th>\n",
       "      <th>Ident_left</th>\n",
       "      <th>geometry</th>\n",
       "      <th>index_right</th>\n",
       "      <th>Ident_right</th>\n",
       "    </tr>\n",
       "  </thead>\n",
       "  <tbody>\n",
       "    <tr>\n",
       "      <th>0</th>\n",
       "      <td>Polygon A</td>\n",
       "      <td>POLYGON ((0.00000 0.00000, 1.00000 0.00000, 1....</td>\n",
       "      <td>1</td>\n",
       "      <td>B</td>\n",
       "    </tr>\n",
       "    <tr>\n",
       "      <th>0</th>\n",
       "      <td>Polygon A</td>\n",
       "      <td>POLYGON ((0.00000 0.00000, 1.00000 0.00000, 1....</td>\n",
       "      <td>2</td>\n",
       "      <td>C</td>\n",
       "    </tr>\n",
       "  </tbody>\n",
       "</table>\n",
       "</div>"
      ],
      "text/plain": [
       "  Ident_left                                           geometry  index_right  \\\n",
       "0  Polygon A  POLYGON ((0.00000 0.00000, 1.00000 0.00000, 1....            1   \n",
       "0  Polygon A  POLYGON ((0.00000 0.00000, 1.00000 0.00000, 1....            2   \n",
       "\n",
       "  Ident_right  \n",
       "0           B  \n",
       "0           C  "
      ]
     },
     "metadata": {},
     "execution_count": 9
    }
   ],
   "metadata": {}
  },
  {
   "cell_type": "code",
   "execution_count": 6,
   "source": [
    "sjoin = gpd.sjoin(points, polygon, how='inner', predicate='within')\n",
    "sjoin"
   ],
   "outputs": [
    {
     "output_type": "execute_result",
     "data": {
      "text/html": [
       "<div>\n",
       "<style scoped>\n",
       "    .dataframe tbody tr th:only-of-type {\n",
       "        vertical-align: middle;\n",
       "    }\n",
       "\n",
       "    .dataframe tbody tr th {\n",
       "        vertical-align: top;\n",
       "    }\n",
       "\n",
       "    .dataframe thead th {\n",
       "        text-align: right;\n",
       "    }\n",
       "</style>\n",
       "<table border=\"1\" class=\"dataframe\">\n",
       "  <thead>\n",
       "    <tr style=\"text-align: right;\">\n",
       "      <th></th>\n",
       "      <th>Ident_left</th>\n",
       "      <th>geometry</th>\n",
       "      <th>index_right</th>\n",
       "      <th>Ident_right</th>\n",
       "    </tr>\n",
       "  </thead>\n",
       "  <tbody>\n",
       "    <tr>\n",
       "      <th>1</th>\n",
       "      <td>B</td>\n",
       "      <td>POINT (0.30000 0.70000)</td>\n",
       "      <td>0</td>\n",
       "      <td>Polygon A</td>\n",
       "    </tr>\n",
       "    <tr>\n",
       "      <th>2</th>\n",
       "      <td>C</td>\n",
       "      <td>POINT (0.80000 0.40000)</td>\n",
       "      <td>0</td>\n",
       "      <td>Polygon A</td>\n",
       "    </tr>\n",
       "  </tbody>\n",
       "</table>\n",
       "</div>"
      ],
      "text/plain": [
       "  Ident_left                 geometry  index_right Ident_right\n",
       "1          B  POINT (0.30000 0.70000)            0   Polygon A\n",
       "2          C  POINT (0.80000 0.40000)            0   Polygon A"
      ]
     },
     "metadata": {},
     "execution_count": 6
    }
   ],
   "metadata": {}
  },
  {
   "cell_type": "code",
   "execution_count": 8,
   "source": [
    "sjoin = gpd.sjoin(polygon, points, how='left', predicate='intersects')\n",
    "sjoin"
   ],
   "outputs": [
    {
     "output_type": "execute_result",
     "data": {
      "text/html": [
       "<div>\n",
       "<style scoped>\n",
       "    .dataframe tbody tr th:only-of-type {\n",
       "        vertical-align: middle;\n",
       "    }\n",
       "\n",
       "    .dataframe tbody tr th {\n",
       "        vertical-align: top;\n",
       "    }\n",
       "\n",
       "    .dataframe thead th {\n",
       "        text-align: right;\n",
       "    }\n",
       "</style>\n",
       "<table border=\"1\" class=\"dataframe\">\n",
       "  <thead>\n",
       "    <tr style=\"text-align: right;\">\n",
       "      <th></th>\n",
       "      <th>Ident_left</th>\n",
       "      <th>geometry</th>\n",
       "      <th>index_right</th>\n",
       "      <th>Ident_right</th>\n",
       "    </tr>\n",
       "  </thead>\n",
       "  <tbody>\n",
       "    <tr>\n",
       "      <th>0</th>\n",
       "      <td>Polygon A</td>\n",
       "      <td>POLYGON ((0.00000 0.00000, 1.00000 0.00000, 1....</td>\n",
       "      <td>1</td>\n",
       "      <td>B</td>\n",
       "    </tr>\n",
       "    <tr>\n",
       "      <th>0</th>\n",
       "      <td>Polygon A</td>\n",
       "      <td>POLYGON ((0.00000 0.00000, 1.00000 0.00000, 1....</td>\n",
       "      <td>0</td>\n",
       "      <td>A</td>\n",
       "    </tr>\n",
       "    <tr>\n",
       "      <th>0</th>\n",
       "      <td>Polygon A</td>\n",
       "      <td>POLYGON ((0.00000 0.00000, 1.00000 0.00000, 1....</td>\n",
       "      <td>2</td>\n",
       "      <td>C</td>\n",
       "    </tr>\n",
       "    <tr>\n",
       "      <th>0</th>\n",
       "      <td>Polygon A</td>\n",
       "      <td>POLYGON ((0.00000 0.00000, 1.00000 0.00000, 1....</td>\n",
       "      <td>3</td>\n",
       "      <td>E</td>\n",
       "    </tr>\n",
       "  </tbody>\n",
       "</table>\n",
       "</div>"
      ],
      "text/plain": [
       "  Ident_left                                           geometry  index_right  \\\n",
       "0  Polygon A  POLYGON ((0.00000 0.00000, 1.00000 0.00000, 1....            1   \n",
       "0  Polygon A  POLYGON ((0.00000 0.00000, 1.00000 0.00000, 1....            0   \n",
       "0  Polygon A  POLYGON ((0.00000 0.00000, 1.00000 0.00000, 1....            2   \n",
       "0  Polygon A  POLYGON ((0.00000 0.00000, 1.00000 0.00000, 1....            3   \n",
       "\n",
       "  Ident_right  \n",
       "0           B  \n",
       "0           A  \n",
       "0           C  \n",
       "0           E  "
      ]
     },
     "metadata": {},
     "execution_count": 8
    }
   ],
   "metadata": {}
  },
  {
   "cell_type": "code",
   "execution_count": 11,
   "source": [
    "sjoin = gpd.sjoin(polygon, points, how='right', predicate='intersects')\n",
    "sjoin"
   ],
   "outputs": [
    {
     "output_type": "execute_result",
     "data": {
      "text/html": [
       "<div>\n",
       "<style scoped>\n",
       "    .dataframe tbody tr th:only-of-type {\n",
       "        vertical-align: middle;\n",
       "    }\n",
       "\n",
       "    .dataframe tbody tr th {\n",
       "        vertical-align: top;\n",
       "    }\n",
       "\n",
       "    .dataframe thead th {\n",
       "        text-align: right;\n",
       "    }\n",
       "</style>\n",
       "<table border=\"1\" class=\"dataframe\">\n",
       "  <thead>\n",
       "    <tr style=\"text-align: right;\">\n",
       "      <th></th>\n",
       "      <th>index_left</th>\n",
       "      <th>Ident_left</th>\n",
       "      <th>Ident_right</th>\n",
       "      <th>geometry</th>\n",
       "    </tr>\n",
       "  </thead>\n",
       "  <tbody>\n",
       "    <tr>\n",
       "      <th>0</th>\n",
       "      <td>0.0</td>\n",
       "      <td>Polygon A</td>\n",
       "      <td>A</td>\n",
       "      <td>POINT (0.50000 0.00000)</td>\n",
       "    </tr>\n",
       "    <tr>\n",
       "      <th>1</th>\n",
       "      <td>0.0</td>\n",
       "      <td>Polygon A</td>\n",
       "      <td>B</td>\n",
       "      <td>POINT (0.30000 0.70000)</td>\n",
       "    </tr>\n",
       "    <tr>\n",
       "      <th>2</th>\n",
       "      <td>0.0</td>\n",
       "      <td>Polygon A</td>\n",
       "      <td>C</td>\n",
       "      <td>POINT (0.80000 0.40000)</td>\n",
       "    </tr>\n",
       "    <tr>\n",
       "      <th>3</th>\n",
       "      <td>0.0</td>\n",
       "      <td>Polygon A</td>\n",
       "      <td>E</td>\n",
       "      <td>POINT (1.00000 1.00000)</td>\n",
       "    </tr>\n",
       "    <tr>\n",
       "      <th>4</th>\n",
       "      <td>NaN</td>\n",
       "      <td>NaN</td>\n",
       "      <td>F</td>\n",
       "      <td>POINT (1.10000 1.10000)</td>\n",
       "    </tr>\n",
       "    <tr>\n",
       "      <th>5</th>\n",
       "      <td>NaN</td>\n",
       "      <td>NaN</td>\n",
       "      <td>G</td>\n",
       "      <td>POINT (-0.10000 -0.10000)</td>\n",
       "    </tr>\n",
       "  </tbody>\n",
       "</table>\n",
       "</div>"
      ],
      "text/plain": [
       "   index_left Ident_left Ident_right                   geometry\n",
       "0         0.0  Polygon A           A    POINT (0.50000 0.00000)\n",
       "1         0.0  Polygon A           B    POINT (0.30000 0.70000)\n",
       "2         0.0  Polygon A           C    POINT (0.80000 0.40000)\n",
       "3         0.0  Polygon A           E    POINT (1.00000 1.00000)\n",
       "4         NaN        NaN           F    POINT (1.10000 1.10000)\n",
       "5         NaN        NaN           G  POINT (-0.10000 -0.10000)"
      ]
     },
     "metadata": {},
     "execution_count": 11
    }
   ],
   "metadata": {}
  },
  {
   "cell_type": "code",
   "execution_count": null,
   "source": [],
   "outputs": [],
   "metadata": {}
  }
 ],
 "metadata": {
  "orig_nbformat": 4,
  "language_info": {
   "name": "python",
   "version": "3.8.3",
   "mimetype": "text/x-python",
   "codemirror_mode": {
    "name": "ipython",
    "version": 3
   },
   "pygments_lexer": "ipython3",
   "nbconvert_exporter": "python",
   "file_extension": ".py"
  },
  "kernelspec": {
   "name": "python3",
   "display_name": "Python 3.8.3 64-bit ('base': conda)"
  },
  "interpreter": {
   "hash": "0e37f8b5187a005d5c39140e5c1b27d22840e7060e442bd6aa4a7c0a35643177"
  }
 },
 "nbformat": 4,
 "nbformat_minor": 2
}
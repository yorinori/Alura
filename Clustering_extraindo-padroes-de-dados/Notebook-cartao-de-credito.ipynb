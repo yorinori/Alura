{
 "cells": [
  {
   "cell_type": "markdown",
   "source": [
    "# Notebook Cartão de Crédito\n",
    "\n",
    "## 02.04 Obtendo a base de dados"
   ],
   "metadata": {}
  },
  {
   "cell_type": "code",
   "execution_count": 1,
   "source": [
    "import pandas as pd\n",
    "\n",
    "dataframe = pd.read_csv('data/CC_GENERAL.csv')\n",
    "dataframe.head()"
   ],
   "outputs": [
    {
     "output_type": "execute_result",
     "data": {
      "text/html": [
       "<div>\n",
       "<style scoped>\n",
       "    .dataframe tbody tr th:only-of-type {\n",
       "        vertical-align: middle;\n",
       "    }\n",
       "\n",
       "    .dataframe tbody tr th {\n",
       "        vertical-align: top;\n",
       "    }\n",
       "\n",
       "    .dataframe thead th {\n",
       "        text-align: right;\n",
       "    }\n",
       "</style>\n",
       "<table border=\"1\" class=\"dataframe\">\n",
       "  <thead>\n",
       "    <tr style=\"text-align: right;\">\n",
       "      <th></th>\n",
       "      <th>CUST_ID</th>\n",
       "      <th>BALANCE</th>\n",
       "      <th>BALANCE_FREQUENCY</th>\n",
       "      <th>PURCHASES</th>\n",
       "      <th>ONEOFF_PURCHASES</th>\n",
       "      <th>INSTALLMENTS_PURCHASES</th>\n",
       "      <th>CASH_ADVANCE</th>\n",
       "      <th>PURCHASES_FREQUENCY</th>\n",
       "      <th>ONEOFF_PURCHASES_FREQUENCY</th>\n",
       "      <th>PURCHASES_INSTALLMENTS_FREQUENCY</th>\n",
       "      <th>CASH_ADVANCE_FREQUENCY</th>\n",
       "      <th>CASH_ADVANCE_TRX</th>\n",
       "      <th>PURCHASES_TRX</th>\n",
       "      <th>CREDIT_LIMIT</th>\n",
       "      <th>PAYMENTS</th>\n",
       "      <th>MINIMUM_PAYMENTS</th>\n",
       "      <th>PRC_FULL_PAYMENT</th>\n",
       "      <th>TENURE</th>\n",
       "    </tr>\n",
       "  </thead>\n",
       "  <tbody>\n",
       "    <tr>\n",
       "      <th>0</th>\n",
       "      <td>C10001</td>\n",
       "      <td>40.900749</td>\n",
       "      <td>0.818182</td>\n",
       "      <td>95.40</td>\n",
       "      <td>0.00</td>\n",
       "      <td>95.4</td>\n",
       "      <td>0.000000</td>\n",
       "      <td>0.166667</td>\n",
       "      <td>0.000000</td>\n",
       "      <td>0.083333</td>\n",
       "      <td>0.000000</td>\n",
       "      <td>0</td>\n",
       "      <td>2</td>\n",
       "      <td>1000.0</td>\n",
       "      <td>201.802084</td>\n",
       "      <td>139.509787</td>\n",
       "      <td>0.000000</td>\n",
       "      <td>12</td>\n",
       "    </tr>\n",
       "    <tr>\n",
       "      <th>1</th>\n",
       "      <td>C10002</td>\n",
       "      <td>3202.467416</td>\n",
       "      <td>0.909091</td>\n",
       "      <td>0.00</td>\n",
       "      <td>0.00</td>\n",
       "      <td>0.0</td>\n",
       "      <td>6442.945483</td>\n",
       "      <td>0.000000</td>\n",
       "      <td>0.000000</td>\n",
       "      <td>0.000000</td>\n",
       "      <td>0.250000</td>\n",
       "      <td>4</td>\n",
       "      <td>0</td>\n",
       "      <td>7000.0</td>\n",
       "      <td>4103.032597</td>\n",
       "      <td>1072.340217</td>\n",
       "      <td>0.222222</td>\n",
       "      <td>12</td>\n",
       "    </tr>\n",
       "    <tr>\n",
       "      <th>2</th>\n",
       "      <td>C10003</td>\n",
       "      <td>2495.148862</td>\n",
       "      <td>1.000000</td>\n",
       "      <td>773.17</td>\n",
       "      <td>773.17</td>\n",
       "      <td>0.0</td>\n",
       "      <td>0.000000</td>\n",
       "      <td>1.000000</td>\n",
       "      <td>1.000000</td>\n",
       "      <td>0.000000</td>\n",
       "      <td>0.000000</td>\n",
       "      <td>0</td>\n",
       "      <td>12</td>\n",
       "      <td>7500.0</td>\n",
       "      <td>622.066742</td>\n",
       "      <td>627.284787</td>\n",
       "      <td>0.000000</td>\n",
       "      <td>12</td>\n",
       "    </tr>\n",
       "    <tr>\n",
       "      <th>3</th>\n",
       "      <td>C10004</td>\n",
       "      <td>1666.670542</td>\n",
       "      <td>0.636364</td>\n",
       "      <td>1499.00</td>\n",
       "      <td>1499.00</td>\n",
       "      <td>0.0</td>\n",
       "      <td>205.788017</td>\n",
       "      <td>0.083333</td>\n",
       "      <td>0.083333</td>\n",
       "      <td>0.000000</td>\n",
       "      <td>0.083333</td>\n",
       "      <td>1</td>\n",
       "      <td>1</td>\n",
       "      <td>7500.0</td>\n",
       "      <td>0.000000</td>\n",
       "      <td>NaN</td>\n",
       "      <td>0.000000</td>\n",
       "      <td>12</td>\n",
       "    </tr>\n",
       "    <tr>\n",
       "      <th>4</th>\n",
       "      <td>C10005</td>\n",
       "      <td>817.714335</td>\n",
       "      <td>1.000000</td>\n",
       "      <td>16.00</td>\n",
       "      <td>16.00</td>\n",
       "      <td>0.0</td>\n",
       "      <td>0.000000</td>\n",
       "      <td>0.083333</td>\n",
       "      <td>0.083333</td>\n",
       "      <td>0.000000</td>\n",
       "      <td>0.000000</td>\n",
       "      <td>0</td>\n",
       "      <td>1</td>\n",
       "      <td>1200.0</td>\n",
       "      <td>678.334763</td>\n",
       "      <td>244.791237</td>\n",
       "      <td>0.000000</td>\n",
       "      <td>12</td>\n",
       "    </tr>\n",
       "  </tbody>\n",
       "</table>\n",
       "</div>"
      ],
      "text/plain": [
       "  CUST_ID      BALANCE  BALANCE_FREQUENCY  PURCHASES  ONEOFF_PURCHASES  \\\n",
       "0  C10001    40.900749           0.818182      95.40              0.00   \n",
       "1  C10002  3202.467416           0.909091       0.00              0.00   \n",
       "2  C10003  2495.148862           1.000000     773.17            773.17   \n",
       "3  C10004  1666.670542           0.636364    1499.00           1499.00   \n",
       "4  C10005   817.714335           1.000000      16.00             16.00   \n",
       "\n",
       "   INSTALLMENTS_PURCHASES  CASH_ADVANCE  PURCHASES_FREQUENCY  \\\n",
       "0                    95.4      0.000000             0.166667   \n",
       "1                     0.0   6442.945483             0.000000   \n",
       "2                     0.0      0.000000             1.000000   \n",
       "3                     0.0    205.788017             0.083333   \n",
       "4                     0.0      0.000000             0.083333   \n",
       "\n",
       "   ONEOFF_PURCHASES_FREQUENCY  PURCHASES_INSTALLMENTS_FREQUENCY  \\\n",
       "0                    0.000000                          0.083333   \n",
       "1                    0.000000                          0.000000   \n",
       "2                    1.000000                          0.000000   \n",
       "3                    0.083333                          0.000000   \n",
       "4                    0.083333                          0.000000   \n",
       "\n",
       "   CASH_ADVANCE_FREQUENCY  CASH_ADVANCE_TRX  PURCHASES_TRX  CREDIT_LIMIT  \\\n",
       "0                0.000000                 0              2        1000.0   \n",
       "1                0.250000                 4              0        7000.0   \n",
       "2                0.000000                 0             12        7500.0   \n",
       "3                0.083333                 1              1        7500.0   \n",
       "4                0.000000                 0              1        1200.0   \n",
       "\n",
       "      PAYMENTS  MINIMUM_PAYMENTS  PRC_FULL_PAYMENT  TENURE  \n",
       "0   201.802084        139.509787          0.000000      12  \n",
       "1  4103.032597       1072.340217          0.222222      12  \n",
       "2   622.066742        627.284787          0.000000      12  \n",
       "3     0.000000               NaN          0.000000      12  \n",
       "4   678.334763        244.791237          0.000000      12  "
      ]
     },
     "metadata": {},
     "execution_count": 1
    }
   ],
   "metadata": {}
  },
  {
   "cell_type": "code",
   "execution_count": 2,
   "source": [
    "dataframe.shape"
   ],
   "outputs": [
    {
     "output_type": "execute_result",
     "data": {
      "text/plain": [
       "(8950, 18)"
      ]
     },
     "metadata": {},
     "execution_count": 2
    }
   ],
   "metadata": {}
  },
  {
   "cell_type": "code",
   "execution_count": 3,
   "source": [
    "dataframe.columns"
   ],
   "outputs": [
    {
     "output_type": "execute_result",
     "data": {
      "text/plain": [
       "Index(['CUST_ID', 'BALANCE', 'BALANCE_FREQUENCY', 'PURCHASES',\n",
       "       'ONEOFF_PURCHASES', 'INSTALLMENTS_PURCHASES', 'CASH_ADVANCE',\n",
       "       'PURCHASES_FREQUENCY', 'ONEOFF_PURCHASES_FREQUENCY',\n",
       "       'PURCHASES_INSTALLMENTS_FREQUENCY', 'CASH_ADVANCE_FREQUENCY',\n",
       "       'CASH_ADVANCE_TRX', 'PURCHASES_TRX', 'CREDIT_LIMIT', 'PAYMENTS',\n",
       "       'MINIMUM_PAYMENTS', 'PRC_FULL_PAYMENT', 'TENURE'],\n",
       "      dtype='object')"
      ]
     },
     "metadata": {},
     "execution_count": 3
    }
   ],
   "metadata": {}
  },
  {
   "cell_type": "markdown",
   "source": [
    "## 02.05 Organizando os dados"
   ],
   "metadata": {}
  },
  {
   "cell_type": "code",
   "execution_count": 4,
   "source": [
    "dataframe.drop(columns=['CUST_ID', 'TENURE'], inplace=True)"
   ],
   "outputs": [],
   "metadata": {}
  },
  {
   "cell_type": "code",
   "execution_count": 5,
   "source": [
    "dataframe.head()"
   ],
   "outputs": [
    {
     "output_type": "execute_result",
     "data": {
      "text/html": [
       "<div>\n",
       "<style scoped>\n",
       "    .dataframe tbody tr th:only-of-type {\n",
       "        vertical-align: middle;\n",
       "    }\n",
       "\n",
       "    .dataframe tbody tr th {\n",
       "        vertical-align: top;\n",
       "    }\n",
       "\n",
       "    .dataframe thead th {\n",
       "        text-align: right;\n",
       "    }\n",
       "</style>\n",
       "<table border=\"1\" class=\"dataframe\">\n",
       "  <thead>\n",
       "    <tr style=\"text-align: right;\">\n",
       "      <th></th>\n",
       "      <th>BALANCE</th>\n",
       "      <th>BALANCE_FREQUENCY</th>\n",
       "      <th>PURCHASES</th>\n",
       "      <th>ONEOFF_PURCHASES</th>\n",
       "      <th>INSTALLMENTS_PURCHASES</th>\n",
       "      <th>CASH_ADVANCE</th>\n",
       "      <th>PURCHASES_FREQUENCY</th>\n",
       "      <th>ONEOFF_PURCHASES_FREQUENCY</th>\n",
       "      <th>PURCHASES_INSTALLMENTS_FREQUENCY</th>\n",
       "      <th>CASH_ADVANCE_FREQUENCY</th>\n",
       "      <th>CASH_ADVANCE_TRX</th>\n",
       "      <th>PURCHASES_TRX</th>\n",
       "      <th>CREDIT_LIMIT</th>\n",
       "      <th>PAYMENTS</th>\n",
       "      <th>MINIMUM_PAYMENTS</th>\n",
       "      <th>PRC_FULL_PAYMENT</th>\n",
       "    </tr>\n",
       "  </thead>\n",
       "  <tbody>\n",
       "    <tr>\n",
       "      <th>0</th>\n",
       "      <td>40.900749</td>\n",
       "      <td>0.818182</td>\n",
       "      <td>95.40</td>\n",
       "      <td>0.00</td>\n",
       "      <td>95.4</td>\n",
       "      <td>0.000000</td>\n",
       "      <td>0.166667</td>\n",
       "      <td>0.000000</td>\n",
       "      <td>0.083333</td>\n",
       "      <td>0.000000</td>\n",
       "      <td>0</td>\n",
       "      <td>2</td>\n",
       "      <td>1000.0</td>\n",
       "      <td>201.802084</td>\n",
       "      <td>139.509787</td>\n",
       "      <td>0.000000</td>\n",
       "    </tr>\n",
       "    <tr>\n",
       "      <th>1</th>\n",
       "      <td>3202.467416</td>\n",
       "      <td>0.909091</td>\n",
       "      <td>0.00</td>\n",
       "      <td>0.00</td>\n",
       "      <td>0.0</td>\n",
       "      <td>6442.945483</td>\n",
       "      <td>0.000000</td>\n",
       "      <td>0.000000</td>\n",
       "      <td>0.000000</td>\n",
       "      <td>0.250000</td>\n",
       "      <td>4</td>\n",
       "      <td>0</td>\n",
       "      <td>7000.0</td>\n",
       "      <td>4103.032597</td>\n",
       "      <td>1072.340217</td>\n",
       "      <td>0.222222</td>\n",
       "    </tr>\n",
       "    <tr>\n",
       "      <th>2</th>\n",
       "      <td>2495.148862</td>\n",
       "      <td>1.000000</td>\n",
       "      <td>773.17</td>\n",
       "      <td>773.17</td>\n",
       "      <td>0.0</td>\n",
       "      <td>0.000000</td>\n",
       "      <td>1.000000</td>\n",
       "      <td>1.000000</td>\n",
       "      <td>0.000000</td>\n",
       "      <td>0.000000</td>\n",
       "      <td>0</td>\n",
       "      <td>12</td>\n",
       "      <td>7500.0</td>\n",
       "      <td>622.066742</td>\n",
       "      <td>627.284787</td>\n",
       "      <td>0.000000</td>\n",
       "    </tr>\n",
       "    <tr>\n",
       "      <th>3</th>\n",
       "      <td>1666.670542</td>\n",
       "      <td>0.636364</td>\n",
       "      <td>1499.00</td>\n",
       "      <td>1499.00</td>\n",
       "      <td>0.0</td>\n",
       "      <td>205.788017</td>\n",
       "      <td>0.083333</td>\n",
       "      <td>0.083333</td>\n",
       "      <td>0.000000</td>\n",
       "      <td>0.083333</td>\n",
       "      <td>1</td>\n",
       "      <td>1</td>\n",
       "      <td>7500.0</td>\n",
       "      <td>0.000000</td>\n",
       "      <td>NaN</td>\n",
       "      <td>0.000000</td>\n",
       "    </tr>\n",
       "    <tr>\n",
       "      <th>4</th>\n",
       "      <td>817.714335</td>\n",
       "      <td>1.000000</td>\n",
       "      <td>16.00</td>\n",
       "      <td>16.00</td>\n",
       "      <td>0.0</td>\n",
       "      <td>0.000000</td>\n",
       "      <td>0.083333</td>\n",
       "      <td>0.083333</td>\n",
       "      <td>0.000000</td>\n",
       "      <td>0.000000</td>\n",
       "      <td>0</td>\n",
       "      <td>1</td>\n",
       "      <td>1200.0</td>\n",
       "      <td>678.334763</td>\n",
       "      <td>244.791237</td>\n",
       "      <td>0.000000</td>\n",
       "    </tr>\n",
       "  </tbody>\n",
       "</table>\n",
       "</div>"
      ],
      "text/plain": [
       "       BALANCE  BALANCE_FREQUENCY  PURCHASES  ONEOFF_PURCHASES  \\\n",
       "0    40.900749           0.818182      95.40              0.00   \n",
       "1  3202.467416           0.909091       0.00              0.00   \n",
       "2  2495.148862           1.000000     773.17            773.17   \n",
       "3  1666.670542           0.636364    1499.00           1499.00   \n",
       "4   817.714335           1.000000      16.00             16.00   \n",
       "\n",
       "   INSTALLMENTS_PURCHASES  CASH_ADVANCE  PURCHASES_FREQUENCY  \\\n",
       "0                    95.4      0.000000             0.166667   \n",
       "1                     0.0   6442.945483             0.000000   \n",
       "2                     0.0      0.000000             1.000000   \n",
       "3                     0.0    205.788017             0.083333   \n",
       "4                     0.0      0.000000             0.083333   \n",
       "\n",
       "   ONEOFF_PURCHASES_FREQUENCY  PURCHASES_INSTALLMENTS_FREQUENCY  \\\n",
       "0                    0.000000                          0.083333   \n",
       "1                    0.000000                          0.000000   \n",
       "2                    1.000000                          0.000000   \n",
       "3                    0.083333                          0.000000   \n",
       "4                    0.083333                          0.000000   \n",
       "\n",
       "   CASH_ADVANCE_FREQUENCY  CASH_ADVANCE_TRX  PURCHASES_TRX  CREDIT_LIMIT  \\\n",
       "0                0.000000                 0              2        1000.0   \n",
       "1                0.250000                 4              0        7000.0   \n",
       "2                0.000000                 0             12        7500.0   \n",
       "3                0.083333                 1              1        7500.0   \n",
       "4                0.000000                 0              1        1200.0   \n",
       "\n",
       "      PAYMENTS  MINIMUM_PAYMENTS  PRC_FULL_PAYMENT  \n",
       "0   201.802084        139.509787          0.000000  \n",
       "1  4103.032597       1072.340217          0.222222  \n",
       "2   622.066742        627.284787          0.000000  \n",
       "3     0.000000               NaN          0.000000  \n",
       "4   678.334763        244.791237          0.000000  "
      ]
     },
     "metadata": {},
     "execution_count": 5
    }
   ],
   "metadata": {}
  },
  {
   "cell_type": "code",
   "execution_count": 6,
   "source": [
    "dataframe.shape"
   ],
   "outputs": [
    {
     "output_type": "execute_result",
     "data": {
      "text/plain": [
       "(8950, 16)"
      ]
     },
     "metadata": {},
     "execution_count": 6
    }
   ],
   "metadata": {}
  },
  {
   "cell_type": "code",
   "execution_count": 7,
   "source": [
    "missing = dataframe.isna().sum()\n",
    "print(missing)"
   ],
   "outputs": [
    {
     "output_type": "stream",
     "name": "stdout",
     "text": [
      "BALANCE                               0\n",
      "BALANCE_FREQUENCY                     0\n",
      "PURCHASES                             0\n",
      "ONEOFF_PURCHASES                      0\n",
      "INSTALLMENTS_PURCHASES                0\n",
      "CASH_ADVANCE                          0\n",
      "PURCHASES_FREQUENCY                   0\n",
      "ONEOFF_PURCHASES_FREQUENCY            0\n",
      "PURCHASES_INSTALLMENTS_FREQUENCY      0\n",
      "CASH_ADVANCE_FREQUENCY                0\n",
      "CASH_ADVANCE_TRX                      0\n",
      "PURCHASES_TRX                         0\n",
      "CREDIT_LIMIT                          1\n",
      "PAYMENTS                              0\n",
      "MINIMUM_PAYMENTS                    313\n",
      "PRC_FULL_PAYMENT                      0\n",
      "dtype: int64\n"
     ]
    }
   ],
   "metadata": {}
  },
  {
   "cell_type": "code",
   "execution_count": 8,
   "source": [
    "dataframe['MINIMUM_PAYMENTS'].describe()"
   ],
   "outputs": [
    {
     "output_type": "execute_result",
     "data": {
      "text/plain": [
       "count     8637.000000\n",
       "mean       864.206542\n",
       "std       2372.446607\n",
       "min          0.019163\n",
       "25%        169.123707\n",
       "50%        312.343947\n",
       "75%        825.485459\n",
       "max      76406.207520\n",
       "Name: MINIMUM_PAYMENTS, dtype: float64"
      ]
     },
     "metadata": {},
     "execution_count": 8
    }
   ],
   "metadata": {}
  },
  {
   "cell_type": "markdown",
   "source": [
    "Adotaremos como estratégia a substituição desse valor pela mediana dos valores deste atributo de total de pagamentos minimos realizados. Não é um valor exato, e sim um aproximado por assim dizer."
   ],
   "metadata": {}
  },
  {
   "cell_type": "code",
   "execution_count": 9,
   "source": [
    "dataframe.fillna(dataframe.median(), inplace=True)\n",
    "\n",
    "missing = dataframe.isna().sum()\n",
    "print(missing)"
   ],
   "outputs": [
    {
     "output_type": "stream",
     "name": "stdout",
     "text": [
      "BALANCE                             0\n",
      "BALANCE_FREQUENCY                   0\n",
      "PURCHASES                           0\n",
      "ONEOFF_PURCHASES                    0\n",
      "INSTALLMENTS_PURCHASES              0\n",
      "CASH_ADVANCE                        0\n",
      "PURCHASES_FREQUENCY                 0\n",
      "ONEOFF_PURCHASES_FREQUENCY          0\n",
      "PURCHASES_INSTALLMENTS_FREQUENCY    0\n",
      "CASH_ADVANCE_FREQUENCY              0\n",
      "CASH_ADVANCE_TRX                    0\n",
      "PURCHASES_TRX                       0\n",
      "CREDIT_LIMIT                        0\n",
      "PAYMENTS                            0\n",
      "MINIMUM_PAYMENTS                    0\n",
      "PRC_FULL_PAYMENT                    0\n",
      "dtype: int64\n"
     ]
    }
   ],
   "metadata": {}
  },
  {
   "cell_type": "markdown",
   "source": [
    "O próximo passo é normalizar nossos dados. Em alguns atributos relacionados à frequência, teremos um limite que varia de 0 a 1, sendo que 0 é 0% de frequência e 1, por sua vez, significa 100%. Para o atributo de balanço, não teremos a mesma organização de mínimo ou máximo, e isso pode fazer com que o algorítimo gere dados pouco satisfatórios para nós.\n",
    "\n",
    "Para realizar a normalização dos dados todos entre zero e um, utilizaremos o biblioteca *Scikit learn*, importando o Normalizer do pacote ´´´sklearn.preprocessing´´´."
   ],
   "metadata": {}
  },
  {
   "cell_type": "code",
   "execution_count": 10,
   "source": [
    "from sklearn.preprocessing import Normalizer\n",
    "\n",
    "values = Normalizer().fit_transform(dataframe.values)\n",
    "print(values)"
   ],
   "outputs": [
    {
     "output_type": "stream",
     "name": "stdout",
     "text": [
      "[[3.93555441e-02 7.87271593e-04 9.17958473e-02 ... 1.94178127e-01\n",
      "  1.34239194e-01 0.00000000e+00]\n",
      " [2.93875903e-01 8.34231560e-05 0.00000000e+00 ... 3.76516684e-01\n",
      "  9.84037959e-02 2.03923046e-05]\n",
      " [3.10798149e-01 1.24560965e-04 9.63068011e-02 ... 7.74852335e-02\n",
      "  7.81351982e-02 0.00000000e+00]\n",
      " ...\n",
      " [2.27733092e-02 8.11060955e-04 1.40540698e-01 ... 7.90986945e-02\n",
      "  8.02156174e-02 2.43318384e-04]\n",
      " [2.65257948e-02 1.64255731e-03 0.00000000e+00 ... 1.03579625e-01\n",
      "  1.09898221e-01 4.92767391e-04]\n",
      " [1.86406219e-01 3.33426837e-04 5.46778061e-01 ... 3.15915455e-02\n",
      "  4.41568390e-02 0.00000000e+00]]\n"
     ]
    }
   ],
   "metadata": {}
  },
  {
   "cell_type": "markdown",
   "source": [
    "## 02.06 Executando o clustering"
   ],
   "metadata": {}
  },
  {
   "cell_type": "code",
   "execution_count": 11,
   "source": [
    "from sklearn.cluster import KMeans\n",
    "\n",
    "kmeans = KMeans(n_clusters=5, n_init=10, max_iter=300)\n",
    "\n",
    "y_pred = kmeans.fit_predict(values)"
   ],
   "outputs": [],
   "metadata": {}
  },
  {
   "cell_type": "markdown",
   "source": [
    "## 03.04 Critérios de validação\n",
    "\n",
    "Métricas externas: Precisamos ter os labels \n",
    "Métricas internas: Independente dos labels\n",
    "\n",
    "Dentro das métricas internas:\n",
    "\n",
    "Critério de compactação: que nos relata quão próximos estão os pontos em um mesmo cluster. \n",
    "\n",
    "Critério de separação: que indica quão bem separados estão os pontos em clusters diferentes. \n"
   ],
   "metadata": {}
  },
  {
   "cell_type": "markdown",
   "source": [
    "## 03.04 Matemática de Silhouette\n",
    "\n",
    "**_Coeficiente de Silhouette_**\n",
    "\n",
    "$\\displaystyle s = \\frac{\\beta - \\alpha}{max(\\alpha,\\ \\beta)} $\n",
    "\n",
    "em que $\\alpha$ é a **distância média** entre o ponto de interesse e todos os outros pontos do **mesmo cluster**. Vamos verificar a compactação dos elementos.\n",
    "\n",
    "$\\beta$ é a **distância média** entre o ponto de interesse e todos os outros pontos do **cluster mais próximo**."
   ],
   "metadata": {}
  },
  {
   "cell_type": "markdown",
   "source": [
    "## 03.05 Calculando o Silhouette"
   ],
   "metadata": {}
  },
  {
   "cell_type": "code",
   "execution_count": 12,
   "source": [
    "from sklearn import metrics\n",
    "labels = kmeans.labels_\n",
    "silhouette = metrics.silhouette_score(values, labels, metric='euclidean')\n",
    "print(silhouette)"
   ],
   "outputs": [
    {
     "output_type": "stream",
     "name": "stdout",
     "text": [
      "0.36456911048578505\n"
     ]
    }
   ],
   "metadata": {}
  },
  {
   "cell_type": "markdown",
   "source": [
    "## 04.04 Matemática do Davies-Bouldin\n",
    "\n",
    "**_Índice Davies-Bouldin_**\n",
    "\n",
    "$\\displaystyle DB = \\frac{1}{k} \\sum^{k}_{i=1} max \\ R_{ij} \\ (i \\neq j)$\n",
    "\n",
    "Em que $R_{ij}$ é dado por\n",
    "\n",
    "$\\displaystyle R_{ij} = \\frac{s_i + s_j}{d_{ij}}$\n",
    "\n",
    "sendo $s$ a similaridade dentro do cluster, isto é, **compactação**.  O $d$ reflete a similaridade entre clusters, a **separação**. Assim temos os dois critérios importantes para uma boa validação\n",
    "\n"
   ],
   "metadata": {}
  },
  {
   "cell_type": "markdown",
   "source": [
    "## 04.05 Calculando o Davies-Bouldin"
   ],
   "metadata": {}
  },
  {
   "cell_type": "code",
   "execution_count": 13,
   "source": [
    "dbs = metrics.davies_bouldin_score(values, labels)\n",
    "print(dbs)"
   ],
   "outputs": [
    {
     "output_type": "stream",
     "name": "stdout",
     "text": [
      "1.0750368113721946\n"
     ]
    }
   ],
   "metadata": {}
  },
  {
   "cell_type": "markdown",
   "source": [
    "## 05.04 Matemática do Calinski (Parte 1)\n",
    "\n",
    "Índice de **Calinski-Harabasz** leva em consideração a dispersão dos pontos dentro de um cluster, tanto nos pontos dentro de um cluster específico, como entre clusters diferentes, considerando a compactação e separação também.\n",
    "\n",
    "$\\displaystyle s = \\frac{tr(B_k)}{tr(W_k)} \\times \\frac{n_E - k}{k - 1}$ \n",
    "\n",
    "$n_E$ é o número de elementos dentro do cluster.\n",
    "\n",
    "$k$ é o número de clusters.\n",
    "\n",
    "$B_k$ é a dispersão dos elementos entre clusters, sendo que a letra \"B\" significa between.\n",
    "\n",
    "$W_k$ é a dispersão de elementos dentro do cluster. $W_k$ é calculado pela seguinte expressão:\n",
    "\n",
    "$\\displaystyle W_k = \\sum_{q=1}^{k} \\sum_{x \\in C_q} (x - c_q) (x - c_q)^T$\n",
    "\n",
    "em que $x$ é o valor do atributo e $c_q$ é o valor do centróide deste atributo para o cluster $q$.\n",
    "\n",
    "$\\sum_{x \\in C_q} (x - c_q) (x - c_q)^T$ é uma matriz de **variância-covariância**(?)\n",
    "\n",
    "**Esta explicação do curso está bem ruim. Atualizar quando possível**"
   ],
   "metadata": {}
  },
  {
   "cell_type": "markdown",
   "source": [
    "## 05.05 Matemática do Calinski (Parte 2)\n",
    "\n",
    "cálculo da matriz de variância-covariância para cada cluster\n",
    "\n",
    "soma das matrizes de variância-covariância\n",
    "\n",
    "cálculo do traço da matriz resultante"
   ],
   "metadata": {}
  },
  {
   "cell_type": "markdown",
   "source": [
    "## 05.06 Matemática do Calinski (Parte 3)\n",
    "\n",
    "$\\displaystyle B_k = \\sum_{q=1}^{k} n_q (c_q - c_E) (c_q - c_E)^T$\n",
    "\n",
    "$k$ é o número de clusters.\n",
    "\n",
    "$n_q$ = número de elementos no cluster\n",
    "\n",
    "$c_q$ = centróide do cluster\n",
    "\n",
    "$c_E$ = centróide dos elementos \n",
    "\n",
    "O índice de Calinski-Harabasz aqui é $s = 47,64$\n",
    "\n"
   ],
   "metadata": {}
  },
  {
   "cell_type": "markdown",
   "source": [
    "## 05.07 Calculando o Calinski"
   ],
   "metadata": {}
  },
  {
   "cell_type": "code",
   "execution_count": 14,
   "source": [
    "calinski = metrics.calinski_harabasz_score(values, labels)\n",
    "print(calinski)"
   ],
   "outputs": [
    {
     "output_type": "stream",
     "name": "stdout",
     "text": [
      "3431.7904873084876\n"
     ]
    }
   ],
   "metadata": {}
  },
  {
   "cell_type": "markdown",
   "source": [
    "## 06.04 A validação relativa"
   ],
   "metadata": {}
  },
  {
   "cell_type": "code",
   "execution_count": 15,
   "source": [
    "def clustering_algorithm(n_clusters, dataset):\n",
    "    kmeans = KMeans(n_clusters=n_clusters, n_init=10, max_iter=300)\n",
    "    labels = kmeans.fit_predict(dataset)\n",
    "\n",
    "    s = metrics.silhouette_score(dataset, labels, metric='euclidean')\n",
    "    dbs = metrics.davies_bouldin_score(dataset, labels)\n",
    "    calinski = metrics.calinski_harabasz_score(dataset, labels)\n",
    "\n",
    "    return s, dbs, calinski\n",
    "    "
   ],
   "outputs": [],
   "metadata": {}
  },
  {
   "cell_type": "code",
   "execution_count": 16,
   "source": [
    "s1, dbs1, calinski1 = clustering_algorithm(3, values)\n",
    "print(s1, dbs1, calinski1)"
   ],
   "outputs": [
    {
     "output_type": "stream",
     "name": "stdout",
     "text": [
      "0.3272203126696238 1.3096073640088433 3526.440519908274\n"
     ]
    }
   ],
   "metadata": {}
  },
  {
   "cell_type": "code",
   "execution_count": 17,
   "source": [
    "s2, dbs2, calinski2 = clustering_algorithm(5, values)\n",
    "print(s2, dbs2, calinski2)"
   ],
   "outputs": [
    {
     "output_type": "stream",
     "name": "stdout",
     "text": [
      "0.3643789471792036 1.076211297521809 3431.7659357940643\n"
     ]
    }
   ],
   "metadata": {}
  },
  {
   "cell_type": "code",
   "execution_count": 18,
   "source": [
    "s3, dbs3, calinski3 = clustering_algorithm(10, values)\n",
    "print(s3, dbs3, calinski3)"
   ],
   "outputs": [
    {
     "output_type": "stream",
     "name": "stdout",
     "text": [
      "0.3072577298065234 1.1437752030751365 3018.0180350762585\n"
     ]
    }
   ],
   "metadata": {}
  },
  {
   "cell_type": "code",
   "execution_count": 19,
   "source": [
    "s4, dbs4, calinski4 = clustering_algorithm(20, values)\n",
    "print(s4, dbs4, calinski4)"
   ],
   "outputs": [
    {
     "output_type": "stream",
     "name": "stdout",
     "text": [
      "0.267348831773729 1.2420646026502786 2380.8828502402785\n"
     ]
    }
   ],
   "metadata": {}
  },
  {
   "cell_type": "markdown",
   "source": [
    "## 06.05 A estrutura dos clusters"
   ],
   "metadata": {}
  },
  {
   "cell_type": "code",
   "execution_count": 20,
   "source": [
    "dataframe.count()"
   ],
   "outputs": [
    {
     "output_type": "execute_result",
     "data": {
      "text/plain": [
       "BALANCE                             8950\n",
       "BALANCE_FREQUENCY                   8950\n",
       "PURCHASES                           8950\n",
       "ONEOFF_PURCHASES                    8950\n",
       "INSTALLMENTS_PURCHASES              8950\n",
       "CASH_ADVANCE                        8950\n",
       "PURCHASES_FREQUENCY                 8950\n",
       "ONEOFF_PURCHASES_FREQUENCY          8950\n",
       "PURCHASES_INSTALLMENTS_FREQUENCY    8950\n",
       "CASH_ADVANCE_FREQUENCY              8950\n",
       "CASH_ADVANCE_TRX                    8950\n",
       "PURCHASES_TRX                       8950\n",
       "CREDIT_LIMIT                        8950\n",
       "PAYMENTS                            8950\n",
       "MINIMUM_PAYMENTS                    8950\n",
       "PRC_FULL_PAYMENT                    8950\n",
       "dtype: int64"
      ]
     },
     "metadata": {},
     "execution_count": 20
    }
   ],
   "metadata": {}
  },
  {
   "cell_type": "code",
   "execution_count": 21,
   "source": [
    "import numpy as np\n",
    "\n",
    "random_data = np.random.rand(8950, 16)\n",
    "s, dbs, calinski = clustering_algorithm(5, random_data)\n",
    "print(s, dbs, calinski)\n",
    "print(s2, dbs2, calinski2)"
   ],
   "outputs": [
    {
     "output_type": "stream",
     "name": "stdout",
     "text": [
      "0.03952929441730918 3.5144212489422215 303.3642531628846\n",
      "0.3643789471792036 1.076211297521809 3431.7659357940643\n"
     ]
    }
   ],
   "metadata": {}
  },
  {
   "cell_type": "markdown",
   "source": [
    "## 06.06 A estabilidade dos clusters"
   ],
   "metadata": {}
  },
  {
   "cell_type": "code",
   "execution_count": 22,
   "source": [
    "set1, set2, set3 = np.array_split(values, 3)\n",
    "\n",
    "s1, dbs1, calinski1 = clustering_algorithm(5, set1)\n",
    "s2, dbs2, calinski2 = clustering_algorithm(5, set2)\n",
    "s3, dbs3, calinski3 = clustering_algorithm(5, set3)\n",
    "\n",
    "print(s1, dbs1, calinski1)\n",
    "print(s2, dbs2, calinski2)\n",
    "print(s3, dbs3, calinski3)"
   ],
   "outputs": [
    {
     "output_type": "stream",
     "name": "stdout",
     "text": [
      "0.36892760732667484 1.0558332597484905 1204.100909435797\n",
      "0.35325029594762064 1.1428827695610746 1194.939766435848\n",
      "0.3668447506189662 1.0992311388359748 1167.532949291058\n"
     ]
    }
   ],
   "metadata": {}
  },
  {
   "cell_type": "markdown",
   "source": [
    "# 07.04 Gerando gráficos"
   ],
   "metadata": {}
  },
  {
   "cell_type": "code",
   "execution_count": 23,
   "source": [
    "import matplotlib.pyplot as plt\n",
    "plt.scatter(dataframe['PURCHASES'], dataframe['PAYMENTS'], c=labels, s=5, cmap='rainbow')\n",
    "plt.xlabel(\"Valor total pago\")\n",
    "plt.ylabel(\"Valor total gasto\")\n",
    "plt.show"
   ],
   "outputs": [
    {
     "output_type": "execute_result",
     "data": {
      "text/plain": [
       "<function matplotlib.pyplot.show(*args, **kw)>"
      ]
     },
     "metadata": {},
     "execution_count": 23
    },
    {
     "output_type": "display_data",
     "data": {
      "image/png": "[encoded data removed]",
      "text/plain": [
       "<Figure size 432x288 with 1 Axes>"
      ]
     },
     "metadata": {
      "needs_background": "light"
     }
    }
   ],
   "metadata": {}
  },
  {
   "cell_type": "markdown",
   "source": [
    "## 07.05 Interpretação visual"
   ],
   "metadata": {}
  },
  {
   "cell_type": "code",
   "execution_count": 24,
   "source": [
    "import seaborn as sns\n",
    "\n",
    "dataframe[\"cluster\"] = labels\n",
    "# sns.pairplot(dataframe[:], hue=\"cluster\")"
   ],
   "outputs": [],
   "metadata": {}
  },
  {
   "cell_type": "markdown",
   "source": [
    "Note que este tipo de visualização não nos ajuda muito. Será que existem outras maneiras mais eficientes para lidar com clusters?"
   ],
   "metadata": {}
  },
  {
   "cell_type": "markdown",
   "source": [
    "## 08.04 Descrevendo os atributos"
   ],
   "metadata": {}
  },
  {
   "cell_type": "code",
   "execution_count": 26,
   "source": [
    "dataframe.head()"
   ],
   "outputs": [
    {
     "output_type": "execute_result",
     "data": {
      "text/html": [
       "<div>\n",
       "<style scoped>\n",
       "    .dataframe tbody tr th:only-of-type {\n",
       "        vertical-align: middle;\n",
       "    }\n",
       "\n",
       "    .dataframe tbody tr th {\n",
       "        vertical-align: top;\n",
       "    }\n",
       "\n",
       "    .dataframe thead th {\n",
       "        text-align: right;\n",
       "    }\n",
       "</style>\n",
       "<table border=\"1\" class=\"dataframe\">\n",
       "  <thead>\n",
       "    <tr style=\"text-align: right;\">\n",
       "      <th></th>\n",
       "      <th>BALANCE</th>\n",
       "      <th>BALANCE_FREQUENCY</th>\n",
       "      <th>PURCHASES</th>\n",
       "      <th>ONEOFF_PURCHASES</th>\n",
       "      <th>INSTALLMENTS_PURCHASES</th>\n",
       "      <th>CASH_ADVANCE</th>\n",
       "      <th>PURCHASES_FREQUENCY</th>\n",
       "      <th>ONEOFF_PURCHASES_FREQUENCY</th>\n",
       "      <th>PURCHASES_INSTALLMENTS_FREQUENCY</th>\n",
       "      <th>CASH_ADVANCE_FREQUENCY</th>\n",
       "      <th>CASH_ADVANCE_TRX</th>\n",
       "      <th>PURCHASES_TRX</th>\n",
       "      <th>CREDIT_LIMIT</th>\n",
       "      <th>PAYMENTS</th>\n",
       "      <th>MINIMUM_PAYMENTS</th>\n",
       "      <th>PRC_FULL_PAYMENT</th>\n",
       "      <th>cluster</th>\n",
       "    </tr>\n",
       "  </thead>\n",
       "  <tbody>\n",
       "    <tr>\n",
       "      <th>0</th>\n",
       "      <td>40.900749</td>\n",
       "      <td>0.818182</td>\n",
       "      <td>95.40</td>\n",
       "      <td>0.00</td>\n",
       "      <td>95.4</td>\n",
       "      <td>0.000000</td>\n",
       "      <td>0.166667</td>\n",
       "      <td>0.000000</td>\n",
       "      <td>0.083333</td>\n",
       "      <td>0.000000</td>\n",
       "      <td>0</td>\n",
       "      <td>2</td>\n",
       "      <td>1000.0</td>\n",
       "      <td>201.802084</td>\n",
       "      <td>139.509787</td>\n",
       "      <td>0.000000</td>\n",
       "      <td>1</td>\n",
       "    </tr>\n",
       "    <tr>\n",
       "      <th>1</th>\n",
       "      <td>3202.467416</td>\n",
       "      <td>0.909091</td>\n",
       "      <td>0.00</td>\n",
       "      <td>0.00</td>\n",
       "      <td>0.0</td>\n",
       "      <td>6442.945483</td>\n",
       "      <td>0.000000</td>\n",
       "      <td>0.000000</td>\n",
       "      <td>0.000000</td>\n",
       "      <td>0.250000</td>\n",
       "      <td>4</td>\n",
       "      <td>0</td>\n",
       "      <td>7000.0</td>\n",
       "      <td>4103.032597</td>\n",
       "      <td>1072.340217</td>\n",
       "      <td>0.222222</td>\n",
       "      <td>0</td>\n",
       "    </tr>\n",
       "    <tr>\n",
       "      <th>2</th>\n",
       "      <td>2495.148862</td>\n",
       "      <td>1.000000</td>\n",
       "      <td>773.17</td>\n",
       "      <td>773.17</td>\n",
       "      <td>0.0</td>\n",
       "      <td>0.000000</td>\n",
       "      <td>1.000000</td>\n",
       "      <td>1.000000</td>\n",
       "      <td>0.000000</td>\n",
       "      <td>0.000000</td>\n",
       "      <td>0</td>\n",
       "      <td>12</td>\n",
       "      <td>7500.0</td>\n",
       "      <td>622.066742</td>\n",
       "      <td>627.284787</td>\n",
       "      <td>0.000000</td>\n",
       "      <td>1</td>\n",
       "    </tr>\n",
       "    <tr>\n",
       "      <th>3</th>\n",
       "      <td>1666.670542</td>\n",
       "      <td>0.636364</td>\n",
       "      <td>1499.00</td>\n",
       "      <td>1499.00</td>\n",
       "      <td>0.0</td>\n",
       "      <td>205.788017</td>\n",
       "      <td>0.083333</td>\n",
       "      <td>0.083333</td>\n",
       "      <td>0.000000</td>\n",
       "      <td>0.083333</td>\n",
       "      <td>1</td>\n",
       "      <td>1</td>\n",
       "      <td>7500.0</td>\n",
       "      <td>0.000000</td>\n",
       "      <td>312.343947</td>\n",
       "      <td>0.000000</td>\n",
       "      <td>1</td>\n",
       "    </tr>\n",
       "    <tr>\n",
       "      <th>4</th>\n",
       "      <td>817.714335</td>\n",
       "      <td>1.000000</td>\n",
       "      <td>16.00</td>\n",
       "      <td>16.00</td>\n",
       "      <td>0.0</td>\n",
       "      <td>0.000000</td>\n",
       "      <td>0.083333</td>\n",
       "      <td>0.083333</td>\n",
       "      <td>0.000000</td>\n",
       "      <td>0.000000</td>\n",
       "      <td>0</td>\n",
       "      <td>1</td>\n",
       "      <td>1200.0</td>\n",
       "      <td>678.334763</td>\n",
       "      <td>244.791237</td>\n",
       "      <td>0.000000</td>\n",
       "      <td>3</td>\n",
       "    </tr>\n",
       "  </tbody>\n",
       "</table>\n",
       "</div>"
      ],
      "text/plain": [
       "       BALANCE  BALANCE_FREQUENCY  PURCHASES  ONEOFF_PURCHASES  \\\n",
       "0    40.900749           0.818182      95.40              0.00   \n",
       "1  3202.467416           0.909091       0.00              0.00   \n",
       "2  2495.148862           1.000000     773.17            773.17   \n",
       "3  1666.670542           0.636364    1499.00           1499.00   \n",
       "4   817.714335           1.000000      16.00             16.00   \n",
       "\n",
       "   INSTALLMENTS_PURCHASES  CASH_ADVANCE  PURCHASES_FREQUENCY  \\\n",
       "0                    95.4      0.000000             0.166667   \n",
       "1                     0.0   6442.945483             0.000000   \n",
       "2                     0.0      0.000000             1.000000   \n",
       "3                     0.0    205.788017             0.083333   \n",
       "4                     0.0      0.000000             0.083333   \n",
       "\n",
       "   ONEOFF_PURCHASES_FREQUENCY  PURCHASES_INSTALLMENTS_FREQUENCY  \\\n",
       "0                    0.000000                          0.083333   \n",
       "1                    0.000000                          0.000000   \n",
       "2                    1.000000                          0.000000   \n",
       "3                    0.083333                          0.000000   \n",
       "4                    0.083333                          0.000000   \n",
       "\n",
       "   CASH_ADVANCE_FREQUENCY  CASH_ADVANCE_TRX  PURCHASES_TRX  CREDIT_LIMIT  \\\n",
       "0                0.000000                 0              2        1000.0   \n",
       "1                0.250000                 4              0        7000.0   \n",
       "2                0.000000                 0             12        7500.0   \n",
       "3                0.083333                 1              1        7500.0   \n",
       "4                0.000000                 0              1        1200.0   \n",
       "\n",
       "      PAYMENTS  MINIMUM_PAYMENTS  PRC_FULL_PAYMENT  cluster  \n",
       "0   201.802084        139.509787          0.000000        1  \n",
       "1  4103.032597       1072.340217          0.222222        0  \n",
       "2   622.066742        627.284787          0.000000        1  \n",
       "3     0.000000        312.343947          0.000000        1  \n",
       "4   678.334763        244.791237          0.000000        3  "
      ]
     },
     "metadata": {},
     "execution_count": 26
    }
   ],
   "metadata": {}
  },
  {
   "cell_type": "code",
   "execution_count": 25,
   "source": [
    "dataframe.groupby(\"cluster\").describe()"
   ],
   "outputs": [
    {
     "output_type": "execute_result",
     "data": {
      "text/html": [
       "<div>\n",
       "<style scoped>\n",
       "    .dataframe tbody tr th:only-of-type {\n",
       "        vertical-align: middle;\n",
       "    }\n",
       "\n",
       "    .dataframe tbody tr th {\n",
       "        vertical-align: top;\n",
       "    }\n",
       "\n",
       "    .dataframe thead tr th {\n",
       "        text-align: left;\n",
       "    }\n",
       "\n",
       "    .dataframe thead tr:last-of-type th {\n",
       "        text-align: right;\n",
       "    }\n",
       "</style>\n",
       "<table border=\"1\" class=\"dataframe\">\n",
       "  <thead>\n",
       "    <tr>\n",
       "      <th></th>\n",
       "      <th colspan=\"8\" halign=\"left\">BALANCE</th>\n",
       "      <th colspan=\"2\" halign=\"left\">BALANCE_FREQUENCY</th>\n",
       "      <th>...</th>\n",
       "      <th colspan=\"2\" halign=\"left\">MINIMUM_PAYMENTS</th>\n",
       "      <th colspan=\"8\" halign=\"left\">PRC_FULL_PAYMENT</th>\n",
       "    </tr>\n",
       "    <tr>\n",
       "      <th></th>\n",
       "      <th>count</th>\n",
       "      <th>mean</th>\n",
       "      <th>std</th>\n",
       "      <th>min</th>\n",
       "      <th>25%</th>\n",
       "      <th>50%</th>\n",
       "      <th>75%</th>\n",
       "      <th>max</th>\n",
       "      <th>count</th>\n",
       "      <th>mean</th>\n",
       "      <th>...</th>\n",
       "      <th>75%</th>\n",
       "      <th>max</th>\n",
       "      <th>count</th>\n",
       "      <th>mean</th>\n",
       "      <th>std</th>\n",
       "      <th>min</th>\n",
       "      <th>25%</th>\n",
       "      <th>50%</th>\n",
       "      <th>75%</th>\n",
       "      <th>max</th>\n",
       "    </tr>\n",
       "    <tr>\n",
       "      <th>cluster</th>\n",
       "      <th></th>\n",
       "      <th></th>\n",
       "      <th></th>\n",
       "      <th></th>\n",
       "      <th></th>\n",
       "      <th></th>\n",
       "      <th></th>\n",
       "      <th></th>\n",
       "      <th></th>\n",
       "      <th></th>\n",
       "      <th></th>\n",
       "      <th></th>\n",
       "      <th></th>\n",
       "      <th></th>\n",
       "      <th></th>\n",
       "      <th></th>\n",
       "      <th></th>\n",
       "      <th></th>\n",
       "      <th></th>\n",
       "      <th></th>\n",
       "      <th></th>\n",
       "    </tr>\n",
       "  </thead>\n",
       "  <tbody>\n",
       "    <tr>\n",
       "      <th>0</th>\n",
       "      <td>1071.0</td>\n",
       "      <td>1795.836702</td>\n",
       "      <td>1983.632225</td>\n",
       "      <td>0.000000</td>\n",
       "      <td>506.773698</td>\n",
       "      <td>1088.056301</td>\n",
       "      <td>2317.702916</td>\n",
       "      <td>14581.459140</td>\n",
       "      <td>1071.0</td>\n",
       "      <td>0.861984</td>\n",
       "      <td>...</td>\n",
       "      <td>887.346861</td>\n",
       "      <td>21235.065300</td>\n",
       "      <td>1071.0</td>\n",
       "      <td>0.117296</td>\n",
       "      <td>0.186974</td>\n",
       "      <td>0.0</td>\n",
       "      <td>0.0</td>\n",
       "      <td>0.083333</td>\n",
       "      <td>0.142857</td>\n",
       "      <td>1.0</td>\n",
       "    </tr>\n",
       "    <tr>\n",
       "      <th>1</th>\n",
       "      <td>3281.0</td>\n",
       "      <td>443.767052</td>\n",
       "      <td>846.269966</td>\n",
       "      <td>0.000000</td>\n",
       "      <td>23.390230</td>\n",
       "      <td>82.980060</td>\n",
       "      <td>411.727643</td>\n",
       "      <td>9630.367575</td>\n",
       "      <td>3281.0</td>\n",
       "      <td>0.774457</td>\n",
       "      <td>...</td>\n",
       "      <td>248.700571</td>\n",
       "      <td>4483.503862</td>\n",
       "      <td>3281.0</td>\n",
       "      <td>0.246761</td>\n",
       "      <td>0.346705</td>\n",
       "      <td>0.0</td>\n",
       "      <td>0.0</td>\n",
       "      <td>0.000000</td>\n",
       "      <td>0.444444</td>\n",
       "      <td>1.0</td>\n",
       "    </tr>\n",
       "    <tr>\n",
       "      <th>2</th>\n",
       "      <td>1539.0</td>\n",
       "      <td>1144.165942</td>\n",
       "      <td>1664.223404</td>\n",
       "      <td>0.000000</td>\n",
       "      <td>212.743922</td>\n",
       "      <td>556.359504</td>\n",
       "      <td>1372.605793</td>\n",
       "      <td>19043.138560</td>\n",
       "      <td>1539.0</td>\n",
       "      <td>0.928301</td>\n",
       "      <td>...</td>\n",
       "      <td>525.257953</td>\n",
       "      <td>18621.013310</td>\n",
       "      <td>1539.0</td>\n",
       "      <td>0.277969</td>\n",
       "      <td>0.366883</td>\n",
       "      <td>0.0</td>\n",
       "      <td>0.0</td>\n",
       "      <td>0.083333</td>\n",
       "      <td>0.545455</td>\n",
       "      <td>1.0</td>\n",
       "    </tr>\n",
       "    <tr>\n",
       "      <th>3</th>\n",
       "      <td>2650.0</td>\n",
       "      <td>3037.103867</td>\n",
       "      <td>2478.637457</td>\n",
       "      <td>6.824905</td>\n",
       "      <td>1257.253919</td>\n",
       "      <td>2172.596565</td>\n",
       "      <td>4223.858877</td>\n",
       "      <td>18495.558550</td>\n",
       "      <td>2650.0</td>\n",
       "      <td>0.963796</td>\n",
       "      <td>...</td>\n",
       "      <td>1330.332500</td>\n",
       "      <td>8345.641905</td>\n",
       "      <td>2650.0</td>\n",
       "      <td>0.001798</td>\n",
       "      <td>0.023256</td>\n",
       "      <td>0.0</td>\n",
       "      <td>0.0</td>\n",
       "      <td>0.000000</td>\n",
       "      <td>0.000000</td>\n",
       "      <td>0.6</td>\n",
       "    </tr>\n",
       "    <tr>\n",
       "      <th>4</th>\n",
       "      <td>409.0</td>\n",
       "      <td>1989.027555</td>\n",
       "      <td>1858.869791</td>\n",
       "      <td>70.794108</td>\n",
       "      <td>1016.583226</td>\n",
       "      <td>1330.716005</td>\n",
       "      <td>2149.205166</td>\n",
       "      <td>11670.179850</td>\n",
       "      <td>409.0</td>\n",
       "      <td>0.989435</td>\n",
       "      <td>...</td>\n",
       "      <td>7164.306187</td>\n",
       "      <td>76406.207520</td>\n",
       "      <td>409.0</td>\n",
       "      <td>0.019413</td>\n",
       "      <td>0.091113</td>\n",
       "      <td>0.0</td>\n",
       "      <td>0.0</td>\n",
       "      <td>0.000000</td>\n",
       "      <td>0.000000</td>\n",
       "      <td>1.0</td>\n",
       "    </tr>\n",
       "  </tbody>\n",
       "</table>\n",
       "<p>5 rows × 128 columns</p>\n",
       "</div>"
      ],
      "text/plain": [
       "        BALANCE                                                    \\\n",
       "          count         mean          std        min          25%   \n",
       "cluster                                                             \n",
       "0        1071.0  1795.836702  1983.632225   0.000000   506.773698   \n",
       "1        3281.0   443.767052   846.269966   0.000000    23.390230   \n",
       "2        1539.0  1144.165942  1664.223404   0.000000   212.743922   \n",
       "3        2650.0  3037.103867  2478.637457   6.824905  1257.253919   \n",
       "4         409.0  1989.027555  1858.869791  70.794108  1016.583226   \n",
       "\n",
       "                                                BALANCE_FREQUENCY            \\\n",
       "                 50%          75%           max             count      mean   \n",
       "cluster                                                                       \n",
       "0        1088.056301  2317.702916  14581.459140            1071.0  0.861984   \n",
       "1          82.980060   411.727643   9630.367575            3281.0  0.774457   \n",
       "2         556.359504  1372.605793  19043.138560            1539.0  0.928301   \n",
       "3        2172.596565  4223.858877  18495.558550            2650.0  0.963796   \n",
       "4        1330.716005  2149.205166  11670.179850             409.0  0.989435   \n",
       "\n",
       "         ... MINIMUM_PAYMENTS               PRC_FULL_PAYMENT            \\\n",
       "         ...              75%           max            count      mean   \n",
       "cluster  ...                                                             \n",
       "0        ...       887.346861  21235.065300           1071.0  0.117296   \n",
       "1        ...       248.700571   4483.503862           3281.0  0.246761   \n",
       "2        ...       525.257953  18621.013310           1539.0  0.277969   \n",
       "3        ...      1330.332500   8345.641905           2650.0  0.001798   \n",
       "4        ...      7164.306187  76406.207520            409.0  0.019413   \n",
       "\n",
       "                                                      \n",
       "              std  min  25%       50%       75%  max  \n",
       "cluster                                               \n",
       "0        0.186974  0.0  0.0  0.083333  0.142857  1.0  \n",
       "1        0.346705  0.0  0.0  0.000000  0.444444  1.0  \n",
       "2        0.366883  0.0  0.0  0.083333  0.545455  1.0  \n",
       "3        0.023256  0.0  0.0  0.000000  0.000000  0.6  \n",
       "4        0.091113  0.0  0.0  0.000000  0.000000  1.0  \n",
       "\n",
       "[5 rows x 128 columns]"
      ]
     },
     "metadata": {},
     "execution_count": 25
    }
   ],
   "metadata": {}
  },
  {
   "cell_type": "code",
   "execution_count": null,
   "source": [],
   "outputs": [],
   "metadata": {}
  }
 ],
 "metadata": {
  "orig_nbformat": 4,
  "language_info": {
   "name": "python",
   "version": "3.8.3",
   "mimetype": "text/x-python",
   "codemirror_mode": {
    "name": "ipython",
    "version": 3
   },
   "pygments_lexer": "ipython3",
   "nbconvert_exporter": "python",
   "file_extension": ".py"
  },
  "kernelspec": {
   "name": "python3",
   "display_name": "Python 3.8.3 64-bit ('base': conda)"
  },
  "interpreter": {
   "hash": "0e37f8b5187a005d5c39140e5c1b27d22840e7060e442bd6aa4a7c0a35643177"
  }
 },
 "nbformat": 4,
 "nbformat_minor": 2
}
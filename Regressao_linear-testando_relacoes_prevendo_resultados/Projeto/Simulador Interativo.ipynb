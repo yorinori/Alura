{
 "cells": [
  {
   "cell_type": "markdown",
   "source": [
    "<h1 style='color: green; font-size: 36px; font-weight: bold;'>Data Science - Regressão Linear</h1>"
   ],
   "metadata": {}
  },
  {
   "cell_type": "markdown",
   "source": [
    "# <font color='red' style='font-size: 30px;'>Bônus</font>\n",
    "<hr style='border: 2px solid red;'>"
   ],
   "metadata": {}
  },
  {
   "cell_type": "markdown",
   "source": [
    "## Importando nosso modelo"
   ],
   "metadata": {}
  },
  {
   "cell_type": "code",
   "execution_count": 3,
   "source": [
    "import pickle\n",
    "\n",
    "modelo = open('./modelo_preco','rb')\n",
    "lm_new = pickle.load(modelo)\n",
    "modelo.close()\n",
    "\n",
    "area = 38\n",
    "garagem = 2\n",
    "banheiros = 4\n",
    "lareira = 4\n",
    "marmore = 0\n",
    "andares = 1\n",
    "\n",
    "entrada = [[area, garagem, banheiros, lareira, marmore, andares]]\n",
    "\n",
    "print('$ {0:.2f}'.format(lm_new.predict(entrada)[0]))"
   ],
   "outputs": [
    {
     "output_type": "stream",
     "name": "stdout",
     "text": [
      "$ 46389.80\n"
     ]
    }
   ],
   "metadata": {}
  },
  {
   "cell_type": "markdown",
   "source": [
    "## Exemplo de um simulador interativo para Jupyter\n",
    "\n",
    "https://ipywidgets.readthedocs.io/en/stable/index.html\n",
    "\n",
    "https://github.com/jupyter-widgets/ipywidgets"
   ],
   "metadata": {}
  },
  {
   "cell_type": "code",
   "execution_count": 4,
   "source": [
    "# Importando bibliotecas\n",
    "from ipywidgets import widgets, HBox, VBox\n",
    "from IPython.display import display\n",
    "\n",
    "# Criando os controles do formulário\n",
    "area = widgets.Text(description=\"Área\")\n",
    "garagem = widgets.Text(description=\"Garagem\")\n",
    "banheiros = widgets.Text(description=\"Banheiros\")\n",
    "lareira = widgets.Text(description=\"Lareira\")\n",
    "marmore = widgets.Text(description=\"Mármore?\")\n",
    "andares = widgets.Text(description=\"Andares?\")\n",
    "\n",
    "botao = widgets.Button(description=\"Simular\")\n",
    "\n",
    "# Posicionando os controles\n",
    "left = VBox([area, banheiros, marmore])\n",
    "right = VBox([garagem, lareira, andares])\n",
    "inputs = HBox([left, right])\n",
    "\n",
    "# Função de simulação\n",
    "def simulador(sender):\n",
    "    entrada=[[\n",
    "                float(area.value if area.value else 0), \n",
    "                float(garagem.value if garagem.value else 0), \n",
    "                float(banheiros.value if banheiros.value else 0), \n",
    "                float(lareira.value if lareira.value else 0), \n",
    "                float(marmore.value if marmore.value else 0), \n",
    "                float(andares.value if andares.value else 0)\n",
    "             ]]\n",
    "    print('$ {0:.2f}'.format(lm_new.predict(entrada)[0]))\n",
    "    \n",
    "# Atribuindo a função \"simulador\" ao evento click do botão\n",
    "botao.on_click(simulador)    "
   ],
   "outputs": [],
   "metadata": {}
  },
  {
   "cell_type": "code",
   "execution_count": 6,
   "source": [
    "display(inputs, botao)"
   ],
   "outputs": [
    {
     "output_type": "display_data",
     "data": {
      "application/vnd.jupyter.widget-view+json": {
       "version_major": 2,
       "version_minor": 0,
       "model_id": "1d4b4f60e46d4ab8b88494c217c4f42a"
      },
      "text/plain": [
       "HBox(children=(VBox(children=(Text(value='38', description='Área'), Text(value='4', description='Banheiros'), …"
      ]
     },
     "metadata": {}
    },
    {
     "output_type": "display_data",
     "data": {
      "application/vnd.jupyter.widget-view+json": {
       "version_major": 2,
       "version_minor": 0,
       "model_id": "ebcd1963f4e9467aaf5c1a0b66cbe3ed"
      },
      "text/plain": [
       "Button(description='Simular', style=ButtonStyle())"
      ]
     },
     "metadata": {}
    }
   ],
   "metadata": {}
  },
  {
   "cell_type": "code",
   "execution_count": null,
   "source": [],
   "outputs": [],
   "metadata": {}
  }
 ],
 "metadata": {
  "kernelspec": {
   "name": "python3",
   "display_name": "Python 3.8.3 64-bit ('base': conda)"
  },
  "language_info": {
   "codemirror_mode": {
    "name": "ipython",
    "version": 3
   },
   "file_extension": ".py",
   "mimetype": "text/x-python",
   "name": "python",
   "nbconvert_exporter": "python",
   "pygments_lexer": "ipython3",
   "version": "3.8.3"
  },
  "interpreter": {
   "hash": "0e37f8b5187a005d5c39140e5c1b27d22840e7060e442bd6aa4a7c0a35643177"
  }
 },
 "nbformat": 4,
 "nbformat_minor": 2
}